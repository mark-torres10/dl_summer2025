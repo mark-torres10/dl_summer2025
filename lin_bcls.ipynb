{
 "cells": [
  {
   "cell_type": "markdown",
   "metadata": {},
   "source": [
    "# Logistic regression (binary and multiclass)"
   ]
  },
  {
   "cell_type": "markdown",
   "metadata": {},
   "source": [
    "## Binary logistic regression\n",
    "\n",
    "We classified flowers in `lin_reg.ipynb`. But now let's do the same thing but for binary logistic regression."
   ]
  },
  {
   "cell_type": "markdown",
   "metadata": {},
   "source": [
    "### Setup"
   ]
  },
  {
   "cell_type": "code",
   "execution_count": 1,
   "metadata": {},
   "outputs": [],
   "source": [
    "import matplotlib.pyplot as plt\n",
    "import torchvision\n",
    "import torch\n",
    "from PIL import Image"
   ]
  },
  {
   "cell_type": "code",
   "execution_count": 2,
   "metadata": {},
   "outputs": [],
   "source": [
    "size = (128, 128)"
   ]
  },
  {
   "cell_type": "code",
   "execution_count": 3,
   "metadata": {},
   "outputs": [],
   "source": [
    "transform = torchvision.transforms.Compose([\n",
    "    torchvision.transforms.Resize(size),\n",
    "    torchvision.transforms.ToTensor()\n",
    "])"
   ]
  },
  {
   "cell_type": "code",
   "execution_count": 5,
   "metadata": {},
   "outputs": [],
   "source": [
    "train_dataset = list(\n",
    "    torchvision.datasets.Flowers102(\n",
    "        \"./flowers\", \"train\", transform=transform, download=True\n",
    "    )\n",
    ")\n",
    "test_dataset = list(\n",
    "    torchvision.datasets.Flowers102(\n",
    "        \"./flowers\", \"test\", transform=transform, download=True\n",
    "    )\n",
    ")"
   ]
  },
  {
   "cell_type": "code",
   "execution_count": 7,
   "metadata": {},
   "outputs": [],
   "source": [
    "train_images = torch.stack([im for im, _ in train_dataset], dim=0)\n",
    "train_labels = torch.tensor([label for _, label in train_dataset])"
   ]
  },
  {
   "cell_type": "code",
   "execution_count": 8,
   "metadata": {},
   "outputs": [],
   "source": [
    "train_images_01 = train_images[train_labels <= 1]\n",
    "train_labels_01 = train_labels[train_labels <= 1]"
   ]
  },
  {
   "cell_type": "markdown",
   "metadata": {},
   "source": [
    "### Model\n",
    "\n",
    "Here, we set up our binary logistic regression. We'll actually still do a linear regression, but we use `torch.nn.BCEWithLogitsLoss` for our loss function. Our linear regression will output logits and we'll allow our loss function to handle the steps towards transforming it via the sigmoid function."
   ]
  },
  {
   "cell_type": "code",
   "execution_count": 10,
   "metadata": {},
   "outputs": [],
   "source": [
    "model = torch.nn.Linear(3 * 128 * 128, 1)\n",
    "loss = torch.nn.BCEWithLogitsLoss()\n",
    "lr = 0.0001\n",
    "num_epochs = 100\n",
    "momentum = 0\n",
    "optimizer = torch.optim.SGD(model.parameters(), lr=lr, momentum=momentum)"
   ]
  },
  {
   "cell_type": "code",
   "execution_count": 11,
   "metadata": {},
   "outputs": [
    {
     "name": "stdout",
     "output_type": "stream",
     "text": [
      "Epoch 0, loss: 0.6584396362304688\n",
      "Epoch 1, loss: 0.6478623151779175\n",
      "Epoch 2, loss: 0.6382631063461304\n",
      "Epoch 3, loss: 0.6293513178825378\n",
      "Epoch 4, loss: 0.6209424138069153\n",
      "Epoch 5, loss: 0.612918496131897\n",
      "Epoch 6, loss: 0.6052039265632629\n",
      "Epoch 7, loss: 0.5977489352226257\n",
      "Epoch 8, loss: 0.5905206799507141\n",
      "Epoch 9, loss: 0.5834963321685791\n",
      "Epoch 10, loss: 0.5766600370407104\n",
      "Epoch 11, loss: 0.5699996948242188\n",
      "Epoch 12, loss: 0.5635061264038086\n",
      "Epoch 13, loss: 0.5571719408035278\n",
      "Epoch 14, loss: 0.550990879535675\n",
      "Epoch 15, loss: 0.5449570417404175\n",
      "Epoch 16, loss: 0.5390655994415283\n",
      "Epoch 17, loss: 0.5333117246627808\n",
      "Epoch 18, loss: 0.5276911854743958\n",
      "Epoch 19, loss: 0.5221996903419495\n",
      "Epoch 20, loss: 0.5168333053588867\n",
      "Epoch 21, loss: 0.5115882754325867\n",
      "Epoch 22, loss: 0.5064607858657837\n",
      "Epoch 23, loss: 0.5014473795890808\n",
      "Epoch 24, loss: 0.49654465913772583\n",
      "Epoch 25, loss: 0.49174919724464417\n",
      "Epoch 26, loss: 0.4870578646659851\n",
      "Epoch 27, loss: 0.4824675917625427\n",
      "Epoch 28, loss: 0.47797542810440063\n",
      "Epoch 29, loss: 0.47357839345932007\n",
      "Epoch 30, loss: 0.46927374601364136\n",
      "Epoch 31, loss: 0.4650588035583496\n",
      "Epoch 32, loss: 0.46093088388442993\n",
      "Epoch 33, loss: 0.45688754320144653\n",
      "Epoch 34, loss: 0.45292630791664124\n",
      "Epoch 35, loss: 0.44904476404190063\n",
      "Epoch 36, loss: 0.44524067640304565\n",
      "Epoch 37, loss: 0.44151192903518677\n",
      "Epoch 38, loss: 0.4378562867641449\n",
      "Epoch 39, loss: 0.4342717230319977\n",
      "Epoch 40, loss: 0.43075618147850037\n",
      "Epoch 41, loss: 0.4273079037666321\n",
      "Epoch 42, loss: 0.42392492294311523\n",
      "Epoch 43, loss: 0.4206053614616394\n",
      "Epoch 44, loss: 0.41734758019447327\n",
      "Epoch 45, loss: 0.41414985060691833\n",
      "Epoch 46, loss: 0.41101059317588806\n",
      "Epoch 47, loss: 0.4079282283782959\n",
      "Epoch 48, loss: 0.4049011170864105\n",
      "Epoch 49, loss: 0.40192800760269165\n",
      "Epoch 50, loss: 0.39900723099708557\n",
      "Epoch 51, loss: 0.3961375951766968\n",
      "Epoch 52, loss: 0.39331769943237305\n",
      "Epoch 53, loss: 0.3905462622642517\n",
      "Epoch 54, loss: 0.3878219723701477\n",
      "Epoch 55, loss: 0.3851436674594879\n",
      "Epoch 56, loss: 0.382510244846344\n",
      "Epoch 57, loss: 0.37992042303085327\n",
      "Epoch 58, loss: 0.37737324833869934\n",
      "Epoch 59, loss: 0.3748675584793091\n",
      "Epoch 60, loss: 0.3724023699760437\n",
      "Epoch 61, loss: 0.369976669549942\n",
      "Epoch 62, loss: 0.36758944392204285\n",
      "Epoch 63, loss: 0.36523982882499695\n",
      "Epoch 64, loss: 0.3629268705844879\n",
      "Epoch 65, loss: 0.3606497645378113\n",
      "Epoch 66, loss: 0.35840746760368347\n",
      "Epoch 67, loss: 0.3561994135379791\n",
      "Epoch 68, loss: 0.35402458906173706\n",
      "Epoch 69, loss: 0.35188233852386475\n",
      "Epoch 70, loss: 0.34977179765701294\n",
      "Epoch 71, loss: 0.3476924002170563\n",
      "Epoch 72, loss: 0.34564316272735596\n",
      "Epoch 73, loss: 0.34362366795539856\n",
      "Epoch 74, loss: 0.3416331112384796\n",
      "Epoch 75, loss: 0.33967089653015137\n",
      "Epoch 76, loss: 0.3377363383769989\n",
      "Epoch 77, loss: 0.33582884073257446\n",
      "Epoch 78, loss: 0.3339478075504303\n",
      "Epoch 79, loss: 0.33209261298179626\n",
      "Epoch 80, loss: 0.33026283979415894\n",
      "Epoch 81, loss: 0.328457772731781\n",
      "Epoch 82, loss: 0.32667699456214905\n",
      "Epoch 83, loss: 0.32491999864578247\n",
      "Epoch 84, loss: 0.32318612933158875\n",
      "Epoch 85, loss: 0.3214750289916992\n",
      "Epoch 86, loss: 0.3197862207889557\n",
      "Epoch 87, loss: 0.31811919808387756\n",
      "Epoch 88, loss: 0.31647351384162903\n",
      "Epoch 89, loss: 0.31484878063201904\n",
      "Epoch 90, loss: 0.313244491815567\n",
      "Epoch 91, loss: 0.3116602599620819\n",
      "Epoch 92, loss: 0.31009578704833984\n",
      "Epoch 93, loss: 0.30855053663253784\n",
      "Epoch 94, loss: 0.30702418088912964\n",
      "Epoch 95, loss: 0.30551639199256897\n",
      "Epoch 96, loss: 0.30402669310569763\n",
      "Epoch 97, loss: 0.3025548756122589\n",
      "Epoch 98, loss: 0.3011004626750946\n",
      "Epoch 99, loss: 0.2996632158756256\n"
     ]
    }
   ],
   "source": [
    "for epoch in range(num_epochs):\n",
    "    # Forward pass\n",
    "    outputs = model(train_images_01.view(-1, 3 * 128 * 128))\n",
    "    loss_value = loss(outputs.squeeze(), train_labels_01.float())\n",
    "\n",
    "    # Backward pass\n",
    "    optimizer.zero_grad()\n",
    "    loss_value.backward()\n",
    "    optimizer.step()\n",
    "    print(f\"Epoch {epoch}, loss: {loss_value.item()}\")"
   ]
  },
  {
   "cell_type": "markdown",
   "metadata": {},
   "source": [
    "As we can see, the model slowly gets better over time. It computes the forward pass, and the output of the forward pass is actually the same as in the linear regression from `lin_reg.ipynb`. What changes here is the loss function. The loss function converts the value to a probability between 0 and 1 and then computes the loss based on that probability.\n",
    "\n",
    "Loss starts of at $\\approx 0.7$, which is 50:50 chance ($log(\\frac{1}{2}) \\approx 0.7$) and then slowly improves. We can actually calculate the accuracy given a loss and vice versa."
   ]
  },
  {
   "cell_type": "code",
   "execution_count": 12,
   "metadata": {},
   "outputs": [],
   "source": [
    "import numpy as np"
   ]
  },
  {
   "cell_type": "code",
   "execution_count": 20,
   "metadata": {},
   "outputs": [],
   "source": [
    "def calculate_accuracy(loss):\n",
    "    return np.exp(-loss)\n",
    "\n",
    "\n",
    "def calculate_loss(accuracy):\n",
    "    return -np.log(accuracy)"
   ]
  },
  {
   "cell_type": "code",
   "execution_count": 21,
   "metadata": {},
   "outputs": [
    {
     "name": "stdout",
     "output_type": "stream",
     "text": [
      "Desired accuracy: 0.8\n",
      "Desired loss: 0.2231435513142097\n"
     ]
    }
   ],
   "source": [
    "desired_accuracy = 0.8\n",
    "print(f\"Desired accuracy: {desired_accuracy}\")\n",
    "desired_loss = calculate_loss(desired_accuracy)\n",
    "print(f\"Desired loss: {desired_loss}\")"
   ]
  },
  {
   "cell_type": "code",
   "execution_count": 22,
   "metadata": {},
   "outputs": [
    {
     "name": "stdout",
     "output_type": "stream",
     "text": [
      "Observed loss: 0.3\n",
      "Observed accuracy: 0.7408182206817179\n"
     ]
    }
   ],
   "source": [
    "observed_loss = 0.3\n",
    "print(f\"Observed loss: {observed_loss}\")\n",
    "observed_accuracy = calculate_accuracy(observed_loss)\n",
    "print(f\"Observed accuracy: {observed_accuracy}\")"
   ]
  },
  {
   "cell_type": "markdown",
   "metadata": {},
   "source": [
    "We see that we get an accuracy of ~75%, which is not bad normally but for this task it should be higher. Let's try a faster learning rate."
   ]
  },
  {
   "cell_type": "code",
   "execution_count": 23,
   "metadata": {},
   "outputs": [],
   "source": [
    "model = torch.nn.Linear(3 * 128 * 128, 1)\n",
    "loss = torch.nn.BCEWithLogitsLoss()\n",
    "lr = 0.01\n",
    "num_epochs = 100\n",
    "momentum = 0\n",
    "optimizer = torch.optim.SGD(model.parameters(), lr=lr, momentum=momentum)"
   ]
  },
  {
   "cell_type": "code",
   "execution_count": 24,
   "metadata": {},
   "outputs": [
    {
     "name": "stdout",
     "output_type": "stream",
     "text": [
      "Epoch 0, loss: 0.6505982279777527\n",
      "Epoch 1, loss: 0.2226615697145462\n",
      "Epoch 2, loss: 0.38910719752311707\n",
      "Epoch 3, loss: 6.53595495223999\n",
      "Epoch 4, loss: 10.759622573852539\n",
      "Epoch 5, loss: 1.10702383518219\n",
      "Epoch 6, loss: 3.9149563312530518\n",
      "Epoch 7, loss: 4.459329128265381\n",
      "Epoch 8, loss: 6.251101493835449\n",
      "Epoch 9, loss: 1.0071905851364136\n",
      "Epoch 10, loss: 0.21176591515541077\n",
      "Epoch 11, loss: 0.03600088879466057\n",
      "Epoch 12, loss: 0.02686724066734314\n",
      "Epoch 13, loss: 0.02115124836564064\n",
      "Epoch 14, loss: 0.01966703310608864\n",
      "Epoch 15, loss: 0.018400084227323532\n",
      "Epoch 16, loss: 0.017298337072134018\n",
      "Epoch 17, loss: 0.016331221908330917\n",
      "Epoch 18, loss: 0.015475313179194927\n",
      "Epoch 19, loss: 0.014712309464812279\n",
      "Epoch 20, loss: 0.014027567580342293\n",
      "Epoch 21, loss: 0.013409322127699852\n",
      "Epoch 22, loss: 0.012848171405494213\n",
      "Epoch 23, loss: 0.012336289510130882\n",
      "Epoch 24, loss: 0.011867186054587364\n",
      "Epoch 25, loss: 0.01143560465425253\n",
      "Epoch 26, loss: 0.011037009768188\n",
      "Epoch 27, loss: 0.010667601600289345\n",
      "Epoch 28, loss: 0.010324203409254551\n",
      "Epoch 29, loss: 0.010003995150327682\n",
      "Epoch 30, loss: 0.009704644791781902\n",
      "Epoch 31, loss: 0.009424125775694847\n",
      "Epoch 32, loss: 0.009160557761788368\n",
      "Epoch 33, loss: 0.008912396617233753\n",
      "Epoch 34, loss: 0.008678274229168892\n",
      "Epoch 35, loss: 0.00845702737569809\n",
      "Epoch 36, loss: 0.00824751891195774\n",
      "Epoch 37, loss: 0.008048842661082745\n",
      "Epoch 38, loss: 0.007860103622078896\n",
      "Epoch 39, loss: 0.007680574897676706\n",
      "Epoch 40, loss: 0.007509545423090458\n",
      "Epoch 41, loss: 0.007346453610807657\n",
      "Epoch 42, loss: 0.0071906642988324165\n",
      "Epoch 43, loss: 0.007041676435619593\n",
      "Epoch 44, loss: 0.006899083498865366\n",
      "Epoch 45, loss: 0.0067624845542013645\n",
      "Epoch 46, loss: 0.006631410215049982\n",
      "Epoch 47, loss: 0.006505591329187155\n",
      "Epoch 48, loss: 0.006384686566889286\n",
      "Epoch 49, loss: 0.006268399767577648\n",
      "Epoch 50, loss: 0.006156467832624912\n",
      "Epoch 51, loss: 0.006048670969903469\n",
      "Epoch 52, loss: 0.005944712553173304\n",
      "Epoch 53, loss: 0.005844413302838802\n",
      "Epoch 54, loss: 0.005747570656239986\n",
      "Epoch 55, loss: 0.0056540220975875854\n",
      "Epoch 56, loss: 0.005563599057495594\n",
      "Epoch 57, loss: 0.00547607010230422\n",
      "Epoch 58, loss: 0.005391361191868782\n",
      "Epoch 59, loss: 0.0053093614988029\n",
      "Epoch 60, loss: 0.005229915492236614\n",
      "Epoch 61, loss: 0.005152908153831959\n",
      "Epoch 62, loss: 0.005078219808638096\n",
      "Epoch 63, loss: 0.005005700513720512\n",
      "Epoch 64, loss: 0.004935278557240963\n",
      "Epoch 65, loss: 0.004866887349635363\n",
      "Epoch 66, loss: 0.004800432827323675\n",
      "Epoch 67, loss: 0.004735812544822693\n",
      "Epoch 68, loss: 0.004672938026487827\n",
      "Epoch 69, loss: 0.0046117836609482765\n",
      "Epoch 70, loss: 0.004552269354462624\n",
      "Epoch 71, loss: 0.0044942982494831085\n",
      "Epoch 72, loss: 0.004437858704477549\n",
      "Epoch 73, loss: 0.004382813815027475\n",
      "Epoch 74, loss: 0.004329177085310221\n",
      "Epoch 75, loss: 0.004276835359632969\n",
      "Epoch 76, loss: 0.004225808195769787\n",
      "Epoch 77, loss: 0.00417601503431797\n",
      "Epoch 78, loss: 0.004127398133277893\n",
      "Epoch 79, loss: 0.0040799351409077644\n",
      "Epoch 80, loss: 0.004033574368804693\n",
      "Epoch 81, loss: 0.003988262265920639\n",
      "Epoch 82, loss: 0.00394399743527174\n",
      "Epoch 83, loss: 0.003900718642398715\n",
      "Epoch 84, loss: 0.003858440788462758\n",
      "Epoch 85, loss: 0.003817077027633786\n",
      "Epoch 86, loss: 0.003776577766984701\n",
      "Epoch 87, loss: 0.003736998187378049\n",
      "Epoch 88, loss: 0.0036982488818466663\n",
      "Epoch 89, loss: 0.0036602900363504887\n",
      "Epoch 90, loss: 0.003623100696131587\n",
      "Epoch 91, loss: 0.003586712060496211\n",
      "Epoch 92, loss: 0.003551018889993429\n",
      "Epoch 93, loss: 0.0035160700790584087\n",
      "Epoch 94, loss: 0.0034818321000784636\n",
      "Epoch 95, loss: 0.00344822253100574\n",
      "Epoch 96, loss: 0.003415340092033148\n",
      "Epoch 97, loss: 0.0033830616157501936\n",
      "Epoch 98, loss: 0.0033513647504150867\n",
      "Epoch 99, loss: 0.003320272546261549\n"
     ]
    }
   ],
   "source": [
    "for epoch in range(num_epochs):\n",
    "    # Forward pass\n",
    "    outputs = model(train_images_01.view(-1, 3 * 128 * 128))\n",
    "    loss_value = loss(outputs.squeeze(), train_labels_01.float())\n",
    "\n",
    "    # Backward pass\n",
    "    optimizer.zero_grad()\n",
    "    loss_value.backward()\n",
    "    optimizer.step()\n",
    "    print(f\"Epoch {epoch}, loss: {loss_value.item()}\")"
   ]
  },
  {
   "cell_type": "code",
   "execution_count": 25,
   "metadata": {},
   "outputs": [
    {
     "name": "stdout",
     "output_type": "stream",
     "text": [
      "Observed loss: 0.003\n",
      "Observed accuracy: 0.997004495503373\n"
     ]
    }
   ],
   "source": [
    "observed_loss = 0.003\n",
    "print(f\"Observed loss: {observed_loss}\")\n",
    "observed_accuracy = calculate_accuracy(observed_loss)\n",
    "print(f\"Observed accuracy: {observed_accuracy}\")"
   ]
  },
  {
   "cell_type": "markdown",
   "metadata": {},
   "source": [
    "We see that (for this very simple image classification task), we now have a super-high accuracy! Let's see how it does on the test set (and see if our model overfits)."
   ]
  },
  {
   "cell_type": "code",
   "execution_count": 26,
   "metadata": {},
   "outputs": [],
   "source": [
    "test_images = torch.stack([im for im, _ in test_dataset], dim=0)\n",
    "test_labels = torch.tensor([label for _, label in test_dataset])\n",
    "\n",
    "test_images_01 = test_images[test_labels <= 1]\n",
    "test_labels_01 = test_labels[test_labels <= 1]"
   ]
  },
  {
   "cell_type": "code",
   "execution_count": 29,
   "metadata": {},
   "outputs": [
    {
     "name": "stdout",
     "output_type": "stream",
     "text": [
      "Accuracy: 0.75\n",
      "Loss: 0.5468730330467224\n"
     ]
    }
   ],
   "source": [
    "pred_labels = model(test_images_01.view(-1, 3 * 128 * 128)).squeeze() > 0\n",
    "pred_loss = loss(pred_labels.float(), test_labels_01.float())\n",
    "accuracy = (pred_labels == test_labels_01).float().mean()\n",
    "print(f\"Accuracy: {accuracy.item()}\")\n",
    "print(f\"Loss: {pred_loss.item()}\")"
   ]
  },
  {
   "cell_type": "markdown",
   "metadata": {},
   "source": [
    "Accuracy of 75% on the test set! Good for the task, though it also means that our model likely overfit on the training set."
   ]
  },
  {
   "cell_type": "markdown",
   "metadata": {},
   "source": [
    "## Multi-class regression\n",
    "\n",
    "Let's now do this task, but for all 102 classes in our dataset. The setup is mostly the same, except now our model, instead of outputting 1 value, needs to now output 102 values (one for each class) and we need to use cross-entropy for our loss."
   ]
  },
  {
   "cell_type": "code",
   "execution_count": 35,
   "metadata": {},
   "outputs": [],
   "source": [
    "model = torch.nn.Linear(3 * 128 * 128, 102)\n",
    "loss = torch.nn.CrossEntropyLoss()\n",
    "lr = 0.01\n",
    "num_epochs = 100\n",
    "momentum = 0\n",
    "optimizer = torch.optim.SGD(model.parameters(), lr=lr, momentum=momentum)"
   ]
  },
  {
   "cell_type": "code",
   "execution_count": 36,
   "metadata": {},
   "outputs": [
    {
     "name": "stdout",
     "output_type": "stream",
     "text": [
      "Epoch 0, loss: 4.659365177154541\n",
      "Epoch 10, loss: 4.135303020477295\n",
      "Epoch 20, loss: 3.7487950325012207\n",
      "Epoch 30, loss: 3.4315574169158936\n",
      "Epoch 40, loss: 3.1617236137390137\n",
      "Epoch 50, loss: 2.926675319671631\n",
      "Epoch 60, loss: 2.718764305114746\n",
      "Epoch 70, loss: 2.532965660095215\n",
      "Epoch 80, loss: 2.3657009601593018\n",
      "Epoch 90, loss: 2.2142693996429443\n"
     ]
    }
   ],
   "source": [
    "for epoch in range(num_epochs):\n",
    "    # Forward pass\n",
    "    outputs = model(train_images.view(-1, 3 * 128 * 128))\n",
    "    # torch.Size([1020, 102]), for 1020 images and 102 classes\n",
    "    # each prediction has 102 different values, one for each class\n",
    "    # each observation is a row of 102 values.\n",
    "    # print(outputs.shape)\n",
    "\n",
    "    # cross-entropy loss expects integer labels.\n",
    "    loss_value = loss(outputs, train_labels)\n",
    "    # Backward pass\n",
    "    optimizer.zero_grad()\n",
    "    loss_value.backward()\n",
    "    optimizer.step()\n",
    "    if epoch % 10 == 0:\n",
    "        print(f\"Epoch {epoch}, loss: {loss_value.item()}\")"
   ]
  },
  {
   "cell_type": "markdown",
   "metadata": {},
   "source": [
    "The loss went down, but not as quickly as before. This is because the task is much harder now since it's multiclass prediction. Let's try a larger learning rate as well as increasing epochs."
   ]
  },
  {
   "cell_type": "code",
   "execution_count": 49,
   "metadata": {},
   "outputs": [],
   "source": [
    "model = torch.nn.Linear(3 * 128 * 128, 102)\n",
    "loss = torch.nn.CrossEntropyLoss()\n",
    "lr = 0.1\n",
    "num_epochs = 250\n",
    "momentum = 0\n",
    "optimizer = torch.optim.SGD(model.parameters(), lr=lr, momentum=momentum)"
   ]
  },
  {
   "cell_type": "code",
   "execution_count": 50,
   "metadata": {},
   "outputs": [
    {
     "name": "stdout",
     "output_type": "stream",
     "text": [
      "Epoch 0, loss: 4.660036563873291\n",
      "Epoch 10, loss: 26.879213333129883\n",
      "Epoch 20, loss: 33.95164108276367\n",
      "Epoch 30, loss: 29.772903442382812\n",
      "Epoch 40, loss: 22.860305786132812\n",
      "Epoch 50, loss: 11.575940132141113\n",
      "Epoch 60, loss: 2.6904492378234863\n",
      "Epoch 70, loss: 0.15246695280075073\n",
      "Epoch 80, loss: 0.09906092286109924\n",
      "Epoch 90, loss: 0.0782773569226265\n",
      "Epoch 100, loss: 0.06751013547182083\n",
      "Epoch 110, loss: 0.0602407306432724\n",
      "Epoch 120, loss: 0.05471309274435043\n",
      "Epoch 130, loss: 0.05028054863214493\n",
      "Epoch 140, loss: 0.04662073776125908\n",
      "Epoch 150, loss: 0.04353221878409386\n",
      "Epoch 160, loss: 0.040880925953388214\n",
      "Epoch 170, loss: 0.03857392817735672\n",
      "Epoch 180, loss: 0.036543313413858414\n",
      "Epoch 190, loss: 0.0347396545112133\n",
      "Epoch 200, loss: 0.03312429040670395\n",
      "Epoch 210, loss: 0.0316675566136837\n",
      "Epoch 220, loss: 0.03034592606127262\n",
      "Epoch 230, loss: 0.02914057858288288\n",
      "Epoch 240, loss: 0.028035849332809448\n"
     ]
    }
   ],
   "source": [
    "for epoch in range(num_epochs):\n",
    "    # Forward pass\n",
    "    outputs = model(train_images.view(-1, 3 * 128 * 128))\n",
    "    # torch.Size([1020, 102]), for 1020 images and 102 classes\n",
    "    # each prediction has 102 different values, one for each class\n",
    "    # each observation is a row of 102 values.\n",
    "    # print(outputs.shape)\n",
    "\n",
    "    # cross-entropy loss expects integer labels.\n",
    "    loss_value = loss(outputs, train_labels)\n",
    "    # Backward pass\n",
    "    optimizer.zero_grad()\n",
    "    loss_value.backward()\n",
    "    optimizer.step()\n",
    "    if epoch % 10 == 0:\n",
    "        print(f\"Epoch {epoch}, loss: {loss_value.item()}\")"
   ]
  },
  {
   "cell_type": "markdown",
   "metadata": {},
   "source": [
    "The loss initially spikes up before it comes back down, and it actually does pretty well!"
   ]
  },
  {
   "cell_type": "code",
   "execution_count": 61,
   "metadata": {},
   "outputs": [],
   "source": [
    "pred_test = model(test_images.view(-1, 3 * 128 * 128))"
   ]
  },
  {
   "cell_type": "code",
   "execution_count": 62,
   "metadata": {},
   "outputs": [],
   "source": [
    "loss_value = (pred_test.argmax(dim=1) == test_labels).float().mean()"
   ]
  },
  {
   "cell_type": "code",
   "execution_count": 63,
   "metadata": {},
   "outputs": [
    {
     "name": "stdout",
     "output_type": "stream",
     "text": [
      "Accuracy: 0.14717839658260345\n"
     ]
    }
   ],
   "source": [
    "print(f\"Accuracy: {loss_value.item()}\")"
   ]
  },
  {
   "cell_type": "markdown",
   "metadata": {},
   "source": [
    "This means that if we had to pick a flower out of the 102 classes, we get a 15% accuracy. Not great, but definitely better than at random."
   ]
  },
  {
   "cell_type": "markdown",
   "metadata": {},
   "source": [
    "## Notes\n",
    "\n",
    "The setup of loading the data, loading the model, defining the loss and optimizer and hyperparameters, and then running the training loop, is all the basic building blocks of what training will look like."
   ]
  },
  {
   "cell_type": "code",
   "execution_count": null,
   "metadata": {},
   "outputs": [],
   "source": []
  }
 ],
 "metadata": {
  "kernelspec": {
   "display_name": "deep-learning-v2",
   "language": "python",
   "name": "python3"
  },
  "language_info": {
   "codemirror_mode": {
    "name": "ipython",
    "version": 3
   },
   "file_extension": ".py",
   "mimetype": "text/x-python",
   "name": "python",
   "nbconvert_exporter": "python",
   "pygments_lexer": "ipython3",
   "version": "3.11.9"
  }
 },
 "nbformat": 4,
 "nbformat_minor": 2
}
