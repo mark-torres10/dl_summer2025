{
 "cells": [
  {
   "cell_type": "markdown",
   "metadata": {},
   "source": [
    "# Convolutions\n",
    "\n",
    "This notebook will contain my notes for convolutions."
   ]
  },
  {
   "cell_type": "markdown",
   "metadata": {},
   "source": [
    "#### Images\n",
    "\n",
    "Let's start with images. Normally they consist of 3 channels (red, green, blue), a height, and a width. Each element of an image will have a pixel value between 0 and 255. Therefore, a given image can have the following dimensions:\n",
    "\n",
    "$\\text{Image} \\in [0, ..., 255]^{C * H * W}$\n",
    "\n",
    "For example, in a 64 x 64 image, you would have (64 * 64) pixels for each of the 3 channels, each taking values between 0 (black) and 255 (\"full color\", either \"pure\" red, green, or blue, depending on the channel).\n",
    "\n",
    "PyTorch does $C * H * W$, or channels first, which was adopted out of a historical design that hasn't been changed. $H * W * C$ ends up actually running faster in practice. This is because in practice, we want to combine operations across channels (e.g., for a given pixel location, collapse all operations across all channels), but when channel ends up first, it leads to the values being located very far apart in memory, versus when channels are last, in which case they're normally closer in memory. This can be fixed with `memory_format = torch.channels_last`, but it's out of the scope of the class plus most of the out-of-the-box PyTorch models and tooling that works with images expects channel format to be included first, so therefore trying to use the $H * W * C$ format can screw up a lot of things.\n",
    "\n",
    "##### Images can be very large\n",
    "If we have, say, a 1024 x 1024 image, this is 1,048,576 pixels per channel, or 3,145,728 pixels across 3 channels. Each pixel value has to be represented by an 8-bit integer since it can take values between 0 and 255.\n",
    "\n",
    "#### Images break fully-connected networks\n",
    "\n",
    "Fully-connected networks do poorly with small transitions and fluctuations in the image.\n",
    "\n",
    "##### Size is a concern\n",
    "For example, let's say that you want to build a cat detector. Let's say that it takes 1024 x 1024 inputs across the 3 channels. In a traditional fully-connected network, we would do the operation $Wx + b$. This operation requires that we represent $x$ as a vector. This is already a concern, because for a 1024 x 1024 image, we would have a vector of length 1,048,576 * 3 = 3,145,728. If we want a weight matrix of size 512, that would mean having a weight matrix of 3,145,728 x 512, or 1,610,612,736 weights. If we use, say, 8-bit weights, that would mean that we'd need 12,884,901,888 bits, corresponding to 1.6GB. For just a single relatively small linear layer, we would need 1.6GB. Therefore, size alone makes this task impractical.\n",
    "\n",
    "In addition, most of the image is actually not that useful for us. For example, do we really need every single pixel from a cat image to detect if something is a cat? A majority of the image is likely just the background. Even the parts of the image that are related, we don't need every single pixel, we just need enough to tell us what we want to know. Therefore, as it turns out, even if we wanted a fully-connected network, most of the weights would turn out to be pretty sparse.\n",
    "\n",
    "In addition, the actual signal is \"diffused\" across the image - there's no one single pixel or point in the image that will tell us that something is a cat, but a \"fuzzy view\" of a region in the image can tell us if something is a cat. Therefore, having weights for every single pixel actually turns out to be counterproductive since having individual weights assumes that the part of the input corresponding to that weight is somehow informative, which in this case, since no single pixel will tell us if something is a cat, makes the weights not very useful (and frankly, likely not much different than noise).\n",
    "\n",
    "##### Image variance\n",
    "\n",
    "Let's say that our model learns how to detect cats. In a fully-connected network, it might learn that images are in the top-left corner of the image (maybe, say, it fires if the values in the square matrix location [15, 15] to [100, 100] are all filled in). What happens if you move the cat to a different part of the picture? Or what happens if you change the size of the cat? Or what happens if you change the shade of the cat (say, it's a white cat)? In those cases, since the weights of a fully-connected layer are matched explicitly to particular indices of the input vector, the fully-connected layer will be susceptible to the slightest changes in the image. The weights that we end up learning are very very specific to particular locations in the vector, which will correspond to particular locations in the image.\n",
    "\n",
    "We need a representation of the image, therefore, that is invariant to changes in location, size, color, and any other ways that we can manipulate the image. Once we have this condensed representation of the image, where we get the same vector regardless of if, for example, a cat is in the top left corner or bottom right corner of an image, we can then pass that vector into the fully connected network.\n",
    "\n",
    "#### Processing images in \"patches\" (i.e., convolutions)\n",
    "\n",
    "##### Benefits of patching\n",
    "We considered the case where we transform the image into a single vector and how that wouldn't work. As an alternative, we can consider processing the image in \"patches\".\n",
    "\n",
    "Let's imagine that we have the following setup:\n",
    "- $\\text{Image} x \\in [0, ..., 255]^{C x H x W}$\n",
    "- Linear layer: $f : \\R^N \\rightarrow \\R^D$\n",
    "\n",
    "We can split the image into $M$ patches, each patch with shape $K * K * 3$ (for 3 color channels), and then run a single linear layer across all the patches (we would need a single linear layer, otherwise we can't communicate information across patches). That gives us the following setup:\n",
    "$$\\R^{CK^2} \\rightarrow \\R^{\\frac{D}{M}}$$\n",
    "This gives us $C * K^2 * \\frac{D}{M}$ parameters total. This is in comparison to $C * H * W * D$ parameters in a regular linear layer. Since each patch takes a square chunk of the image, the number of parameters is approximately equal to:\n",
    "$$C * H * W * \\frac{D}{M} \\approx \\frac{C * H * W * D}{M^2}$$\n",
    "\n",
    "We reduce the number of our parameters by an order of $M^2$.\n",
    "\n",
    "##### Overlapping patching\n",
    "If we cut up our images into patches, we can lose information across patches. We can solve this by slightly overlapping our patches.\n",
    "\n",
    "What we do is we \"slide\" across an image, grab a patch, and take a linear transformation of it.\n",
    "\n",
    "This is called a \"convolution\".\n",
    "\n",
    "![Example of convolution](./../assets/conv_slide_1.png \"Example of convolution\")\n",
    "\n",
    "\n",
    "##### Example convolution\n",
    "\n",
    "Let's go through an example convolution. Let's say that we have the following matrix.\n",
    "\n",
    "$$\n",
    "\\left[\n",
    "\\begin{matrix}\n",
    "1 & 2 & 3\\\\\n",
    "4 & 5 & 6\\\\\n",
    "7 & 8 & 9\n",
    "\\end{matrix}\n",
    "\\right]\n",
    "$$\n",
    "\n",
    "Let's say that we want to take $2 * 2$ patches. This means that we'll take chunks of $2 * 2$ matrices and apply some calculation to get a \"value\" out of the $2 * 2$ matrix. Let's say that we just add the values together. That would mean that we slide the following matrix across each $2*2$ patch:\n",
    "$$\n",
    "\\left[\n",
    "\\begin{matrix}\n",
    "1 & 1\\\\\n",
    "1 & 1\n",
    "\\end{matrix}\n",
    "\\right]\n",
    "$$\n",
    "\n",
    "When we slide this across, we first start with the following patch:\n",
    "$$\n",
    "\\left[\n",
    "\\begin{matrix}\n",
    "1 & 2\\\\\n",
    "4 & 5\n",
    "\\end{matrix}\n",
    "\\right]\n",
    "$$\n",
    "\n",
    "Doing our matrix multiplication, we get\n",
    "$$\n",
    "\\left[ \\begin{array}{cc}\n",
    "1 & 2 \\\\\n",
    "4 & 5\n",
    "\\end{array} \\right]\n",
    "\\text{x}\n",
    "\\left[ \\begin{array}{cc}\n",
    "1 & 1 \\\\\n",
    "1 & 1\n",
    "\\end{array} \\right]\n",
    "=\n",
    "12\n",
    "$$\n",
    "\n",
    "Doing this same operation across each $2*2$ window, we get the following matrix result:\n",
    "$$\n",
    "\\left[\n",
    "\\begin{matrix}\n",
    "12 & 16\\\\\n",
    "24 & 28\n",
    "\\end{matrix}\n",
    "\\right]\n",
    "$$\n",
    "\n",
    "This is convolution. We take a linear operation (this case, our sliding windows, which we represented with a $2*2$ matrix) and apply it by sliding across our image. Our sliding windows are called **kernels** and we apply them across the images.\n",
    "\n",
    "We can apply the convolution step mathematically here:\n",
    "\n",
    "![Example of convolution](./../assets/conv_slide_2.png \"Example of convolution\")\n",
    "\n",
    "Let's create a function to demonstrate how this works:"
   ]
  },
  {
   "cell_type": "code",
   "execution_count": 4,
   "metadata": {},
   "outputs": [],
   "source": [
    "import torch"
   ]
  },
  {
   "cell_type": "code",
   "execution_count": 14,
   "metadata": {},
   "outputs": [],
   "source": [
    "def perform_convolution(input_matrix: torch.Tensor, kernel: torch.Tensor) -> torch.Tensor:\n",
    "    \"\"\"Performs convolution step.\"\"\"\n",
    "    print(f\"Input matrix: {input_matrix}\\t Kernel: {kernel}\")\n",
    "    # Get the dimensions of the input matrix and the kernel\n",
    "    input_matrix_shape = input_matrix.shape\n",
    "    kernel_shape = kernel.shape\n",
    "\n",
    "    # Get the dimensions of the output matrix\n",
    "    output_matrix_shape = (input_matrix_shape[0] - kernel_shape[0] + 1, input_matrix_shape[1] - kernel_shape[1] + 1)\n",
    "\n",
    "    # Initialize the output matrix\n",
    "    output_matrix = torch.zeros(output_matrix_shape)\n",
    "\n",
    "    # Perform the convolution\n",
    "    for i in range(output_matrix_shape[0]):\n",
    "        for j in range(output_matrix_shape[1]):\n",
    "            output_matrix[i, j] = torch.sum(input_matrix[i:i + kernel_shape[0], j:j + kernel_shape[1]] * kernel)\n",
    "\n",
    "    print(f\"Output matrix: {output_matrix}\")\n",
    "    return output_matrix"
   ]
  },
  {
   "cell_type": "code",
   "execution_count": 7,
   "metadata": {},
   "outputs": [],
   "source": [
    "input_matrix = torch.Tensor([[1, 2, 3], [4, 5, 6], [7, 8, 9]])\n",
    "kernel = torch.Tensor([[1, 1], [1, 1]])\n",
    "output = perform_convolution(input_matrix, kernel)\n",
    "expected_output = torch.Tensor([[12, 16], [24, 28]])\n",
    "assert torch.allclose(output, expected_output)"
   ]
  },
  {
   "cell_type": "markdown",
   "metadata": {},
   "source": [
    "We can then have a \"convolution layer\" that takes a series of kernels, slides them across the input matrix, and then returns the result."
   ]
  },
  {
   "cell_type": "code",
   "execution_count": 25,
   "metadata": {},
   "outputs": [],
   "source": [
    "def perform_convolution_layer(input_matrix: torch.Tensor, kernels: list[torch.Tensor]) -> torch.Tensor:\n",
    "    res = [\n",
    "        perform_convolution(input_matrix, kernel)\n",
    "        for kernel in kernels\n",
    "    ]\n",
    "    return torch.stack(res)"
   ]
  },
  {
   "cell_type": "code",
   "execution_count": 28,
   "metadata": {},
   "outputs": [
    {
     "name": "stdout",
     "output_type": "stream",
     "text": [
      "Input matrix: tensor([[1., 2., 3.],\n",
      "        [4., 5., 6.],\n",
      "        [7., 8., 9.]])\t Kernel: tensor([[1., 1.],\n",
      "        [1., 1.]])\n",
      "Output matrix: tensor([[12., 16.],\n",
      "        [24., 28.]])\n",
      "Input matrix: tensor([[1., 2., 3.],\n",
      "        [4., 5., 6.],\n",
      "        [7., 8., 9.]])\t Kernel: tensor([[0., 1.],\n",
      "        [0., 1.]])\n",
      "Output matrix: tensor([[ 7.,  9.],\n",
      "        [13., 15.]])\n",
      "Input matrix: tensor([[1., 2., 3.],\n",
      "        [4., 5., 6.],\n",
      "        [7., 8., 9.]])\t Kernel: tensor([[1., 0.],\n",
      "        [1., 0.]])\n",
      "Output matrix: tensor([[ 5.,  7.],\n",
      "        [11., 13.]])\n",
      "Input matrix: tensor([[1., 2., 3.],\n",
      "        [4., 5., 6.],\n",
      "        [7., 8., 9.]])\t Kernel: tensor([[1., 0.],\n",
      "        [0., 1.]])\n",
      "Output matrix: tensor([[ 6.,  8.],\n",
      "        [12., 14.]])\n",
      "tensor([[[12., 16.],\n",
      "         [24., 28.]],\n",
      "\n",
      "        [[ 7.,  9.],\n",
      "         [13., 15.]],\n",
      "\n",
      "        [[ 5.,  7.],\n",
      "         [11., 13.]],\n",
      "\n",
      "        [[ 6.,  8.],\n",
      "         [12., 14.]]])\n",
      "torch.Size([4, 2, 2])\n"
     ]
    }
   ],
   "source": [
    "input_matrix = torch.Tensor([[1, 2, 3], [4, 5, 6], [7, 8, 9]])\n",
    "kernels = [\n",
    "    torch.Tensor([[1, 1], [1, 1]]),\n",
    "    torch.Tensor([[0, 1], [0, 1]]),\n",
    "    torch.Tensor([[1, 0], [1, 0]]),\n",
    "    torch.Tensor([[1, 0], [0, 1]])\n",
    "]\n",
    "output = perform_convolution_layer(input_matrix, kernels)\n",
    "print(output)\n",
    "print(output.shape)"
   ]
  },
  {
   "cell_type": "markdown",
   "metadata": {},
   "source": [
    "This, in essence, is what a convolutional layer does in a neural network. If we have, for example, a $3 * 3$ input and 4 kernels of $2 * 2$, then our output from each kernel will be $2 * 2$, and so across 4 kernels, we'd expect an output of $2 * 2 * 4$."
   ]
  },
  {
   "cell_type": "markdown",
   "metadata": {},
   "source": [
    "##### Efficiency of the convolution operation\n",
    "\n",
    "For our convolution layer, we save a lot on memory.\n",
    "\n",
    "We don't need individual parameters for a large $(C * H * W) * D$ matrix like we would for a rectangular matrix in a linear layer.\n",
    "\n",
    "Instead, we just need to know what are the parameters in each of the kernels that we slide across the image. We then use this same set of kernels and slide them across all the images that we see. As a result, the # of parameters is independent of image resolution altogether. Whether an image is larger or smaller only affects how many times you \"slide\" across an image; the actual parameters in each of the kernels remains the same.\n",
    "\n",
    "As a result, this becomes very memory efficient.\n",
    "\n",
    "If we take our case as before, with a $1024 * 1024$ image, we would need $5 * 10^{13}$ parameters, but with convolution with $3*3$ kernels, we need <500 parameters.\n",
    "\n",
    "We slide each kernel across the image to get a result, then we add those results together to create a single result for that layer.\n",
    "\n",
    "##### What do we lose with convolution?\n",
    "\n",
    "Convolution greatly compresses our data. But what do we lose in doing so? What we lose is the ability for every input to directly see every output. In a typical $N*D$ rectangular matrix, every output is directly linked to every input somehow. In convolution, however, we aggregate the results of a \"region\" of the input and create the output. We, in essence, get a \"receptive field\" of our results, where a given pixel can only affect how that part of the image is interpreted, not how other parts of the image are interpreted.\n",
    "\n",
    "The deeper that we get in the network, the larger the output's \"receptive field\" is, since it gets more of the aggregated sum of the layers before it. In practice, modern CNNs are deep enough and built in such a way that the final output has a receptive field large enough to encompass the whole image, so it can use information from the entire image. But, in the intermediate layers, these layers have more \"local\" views of the image, where they aggregate local chunks of the image, and downstream layers take these \"aggregated local chunks\" and create \"chunk of chunks\" representations, where they get a view of a larger part of the image by getting fuzzy representations of chunks of the image from the upstream layers. With CNNs, we lose the ability for every layer's outputs to have equal access to all the initial inputs (which we have in FFNNs), but we take a different approach where we ask each layer to create \"chunks\" of representation, and downstream layers take those chunks to create \"chunk of chunks\" representations.\n",
    "\n",
    "##### Convolutions and invariances\n",
    "\n",
    "FFNNs do poorly with image invariances (scaling, moving locations, resizing, etc.). CNNs, because they learn \"chunk of chunks\" representations, do quite well with these image shifts and changes.\n",
    "\n",
    "##### Interpretations of convolution\n",
    "\n",
    "There are generally three ways to interpret the convolution operation:\n",
    "1. Convolution is an **efficient** image processer.\n",
    "2. Convolution preserves **properties** of images.\n",
    "3. Convolution is various **image filters**."
   ]
  },
  {
   "cell_type": "markdown",
   "metadata": {},
   "source": [
    "#### Building up a convolutional NN\n",
    "\n",
    "What happens if we build our NNs with convolutional layers?\n",
    "\n",
    "Let's say that we have the following normal setup for a NN:\n",
    "\n",
    "$$\\text{Linear} \\rightarrow \\text{ReLU} \\rightarrow \\text{Linear}$$\n",
    "\n",
    "Let's swap out the linear layers for convolutional layers.\n",
    "\n",
    "$$\\text{Convolution} \\rightarrow \\text{ReLU} \\rightarrow \\text{Convolution}$$\n",
    "\n",
    "##### Issue 1: Vanilla convolution shrinks inputs.\n",
    "Because convolutional layers necessarily compress the image into a smaller representation, we end up losing information and making each downstream layer smaller than the previous one.\n",
    "\n",
    "We can solve this with **padding**, where we pad the input with zeros along all sides to match the output size.\n",
    "\n",
    "Padding gives us $p_w$ and $p_h$ (padding width and height) as new hyperparameters. These should always be equal to each other in order to avoid sliding the image. We have to reconsider the shapes of our inputs and outputs:\n",
    "\n",
    "![Convolution with padding](./../assets/conv_slide_3.png \"Convolution with padding\")\n",
    "\n",
    "We should always have $p_w$ such that $w = 2p_w + 1$, or twice the padding plus one equals the kernel width (same for the height). This also means that the kernel sizes should be odd numbers (which they normally are anyways) because having an even-sized kernel shape means that you can't have padding of a correct shape.\n",
    "\n",
    "##### Issue 2: Vanilla CNNs get very slow as $C$, the number of channels, grows\n",
    "\n",
    "**Primer on channels**\n",
    "\n",
    "In each convolutional layer, we apply kernels to extract certain \"features\" of an image. Each kernel gets a result, and then we stack the results of each kernel's sliding into \"channels\", and pass the stack of channels to the next layer.\n",
    "\n",
    "For example, let's say we have $1024 * 1024$ images with 3 channels. Let's also say that we have 32 kernels. Let's say that each kernel preserves size by having appropriate padding. That means that each kernel returns a result of shape $1024 * 1024$. Across 32 kernels, that means a result of shape $1024 * 1024 * 32$.\n",
    "\n",
    "Let's say that the output of the first layer is this output of $1024 * 1024 * 32$. Let's say that in the next layer, we have 16 kernels with shape $3*3$. If we preserve the size of the image, each kernel will have a shape of $3 * 3 * 32$, as it collects $3*3$ chunks across all channels. Each kernel will return a result of shape $1024 * 1024$, meaning that our output from this layer is $1024 * 1024 * 16$.\n",
    "\n",
    "Channels are crucial for CNNs, as they allow the network to learn more rich representations of features as well as supports hierarchical feature learning (i.e., learning \"chunk of chunks\").\n",
    "\n",
    "**Computational cost of convolution**\n",
    "\n",
    "The computational cost of a convolution step can be given by the following:\n",
    "$$O(WHwhC_1C_2)$$\n",
    "\n",
    "Where $W$ and $H$ are the width and height of the input, $w$ and $h$ are the width and height of the kernels, and $C_1$ and $C_2$ are the number of input and output channels respectively.\n",
    "\n",
    "**Problem of too many channels**\n",
    "\n",
    "As our computation continues, we can progressively have more and more channels, which slows down our computation. Since our cost is $O(WHwhC_1C_2)$, if we want to hold the cost constant, we can decrease our image width and height in order to add more kernels (and thus support more channels and therefore more feature extractors).\n",
    "\n",
    "**Solving the problem of slow computation through striding**\n",
    "\n",
    "We can do this through **striding**, where we take a certain step size as we stride across the image. By default, we take a step size of 1 when sliding across the image, but that doesn't have to be the case. We can, for example, take a step size of 2. This has the benefit of reducing the output image size since we're \"skipping\" parts of the image. It also has the benefit of expanding the \"receptive field\" of the downstream layers since the input chunks are no longer overlapping. This is best done by adding striding to later convolutional layers, since those layers want to learn \"higher-order representations\" and have larger receptive fields.\n",
    "\n",
    "![Convolution with stride](./../assets/conv_slide_4.png \"Convolution with stride\")\n",
    "\n",
    "##### What if the CNN is still too slow?\n",
    "\n",
    "If the CNN is still too slow, we can apply two more tricks:\n",
    "\n",
    "**Group convolution**\n",
    "\n",
    "We can split the input channels that we have into groups, and we'll only run certain kernels on certain input channels. That way, our computation is grouped.\n",
    "\n",
    "If we split our input channels into *g* groups, this transforms the computational complexity of our problem.\n",
    "\n",
    "$$O(WHwhC_1C_2) \\rightarrow O(\\frac{WHwhC_1C_2}{g})$$\n",
    "$$O(C_1C_2) \\rightarrow O(\\frac{C_1C_2}{g})$$"
   ]
  },
  {
   "cell_type": "code",
   "execution_count": 29,
   "metadata": {},
   "outputs": [],
   "source": [
    "def perform_group_convolution(input_tensor: torch.Tensor, out_channels: int, kernel_size: int, groups: int) -> torch.Tensor:\n",
    "    \"\"\"Performs group convolution.\"\"\"\n",
    "    in_channels = input_tensor.shape[1]\n",
    "    conv = torch.nn.Conv2d(in_channels, out_channels, kernel_size, groups=groups, bias=False)\n",
    "    \n",
    "    # Initialize the kernel weights to some values for demonstration purposes\n",
    "    torch.nn.init.normal_(conv.weight, mean=0.0, std=1.0)\n",
    "    \n",
    "    output = conv(input_tensor)\n",
    "    return output"
   ]
  },
  {
   "cell_type": "code",
   "execution_count": 32,
   "metadata": {},
   "outputs": [
    {
     "name": "stdout",
     "output_type": "stream",
     "text": [
      "Input Tensor Shape: torch.Size([1, 3, 5, 5])\n",
      "Output Tensor Shape: torch.Size([1, 6, 4, 4])\n"
     ]
    }
   ],
   "source": [
    "# Example input tensor with 3 channels, 1 batch, and 5x5 spatial dimensions\n",
    "input_tensor = torch.randn(1, 3, 5, 5)\n",
    "\n",
    "# Perform group convolution with 6 output channels, 2x2 kernel size, and 3 groups\n",
    "output_tensor = perform_group_convolution(input_tensor, out_channels=6, kernel_size=2, groups=3)\n",
    "\n",
    "print(f\"Input Tensor Shape: {input_tensor.shape}\")\n",
    "print(f\"Output Tensor Shape: {output_tensor.shape}\")\n",
    "# print(\"Output Tensor:\", output_tensor)"
   ]
  },
  {
   "cell_type": "markdown",
   "metadata": {},
   "source": [
    "An extreme case of group convolution is **depthwise convolution**, where $C_1 = C_2 = g$, or the input channels and output channels are equal and each channel gets their own group. This reduces the computational cost.\n",
    "\n",
    "$$O(WHwhC_1C_2) \\rightarrow O(WHwhC_1)$$\n",
    "\n",
    "However, this can't apply any processing across channels, so you need to add a $1*1$ convolutional layer right after in order to \"collapse\" across the different channels and process across those channels. The $1*1$ convolution has a runtime of $O(WHC_1C_2)$. Therefore, splitting the convolution operation as a depthwise convolution plus $1*1$ convolution changes our runtime to:\n",
    "\n",
    "$$O(WHwhC_1C_2) \\rightarrow O(WHwhC_1) + O(WHC_1C_2)$$\n",
    "\n",
    "This means transforming our convolution layer from\n",
    "$$\\text{Convolution} \\rightarrow \\text{ReLU}$$\n",
    "\n",
    "To\n",
    "\n",
    "$$\\text{Depthwise convolution} \\rightarrow \\text{1 x 1 convolution} \\rightarrow \\text{ReLU}$$\n",
    "\n",
    "This ends up speeding up the computation of downstream convolution layers and is often applied in deep networks.\n",
    "\n",
    "##### Hyperparameters in convolution\n",
    "\n",
    "We have the following possible hyperparameters in convolution:\n",
    "- Strides\n",
    "- Kernel size\n",
    "- Output channels\n",
    "- Groups\n",
    "- Padding\n",
    "\n",
    "For each of these, there are recommended best practices:\n",
    "- Strides: $s_w = s_h \\in \\{1, 2\\}$\n",
    "- Kernel size: $w = h \\in \\{1, 3\\}$\n",
    "- Output channels: $C_2 = C_1s_w = C_1s_h$ (powers of 2)\n",
    "    - Keeps computation constant: $O(WHwhC_1C_2)$\n",
    "- Groups: ignore, only use if you know what you're doing\n",
    "- Padding: $p_w = \\frac{w-1}{2}, p_h = \\frac{h-1}{2}$\n",
    "\n",
    "#### Building convolutional networks\n",
    "\n",
    "A convolution \"block\" normally consists of\n",
    "- Convolution\n",
    "- Nonlinearity\n",
    "- Normalization and residuals (for deeper networks)\n",
    "\n",
    "We normally have a setup like this:\n",
    "$$\\text{Convolution block} \\rightarrow \\text{Convolution block} \\rightarrow \\text{Linear output layer}$$"
   ]
  },
  {
   "cell_type": "markdown",
   "metadata": {},
   "source": [
    "## Convolutions in PyTorch\n",
    "\n",
    "Now let's actually implement convolutions in PyTorch."
   ]
  },
  {
   "cell_type": "code",
   "execution_count": 35,
   "metadata": {},
   "outputs": [],
   "source": [
    "net = torch.nn.Conv2d(\n",
    "    in_channels=1, # 1-d input (i.e., not 3-channel input, like RGB).\n",
    "    out_channels=16, # 16 channels output.\n",
    "    kernel_size=3, # 3 x 3 kernels.\n",
    "    stride=1,\n",
    "    padding=1 # (3-1)/2 = 1\n",
    ")"
   ]
  },
  {
   "cell_type": "markdown",
   "metadata": {},
   "source": [
    "Let's pass in some input. Let's create a random tensor, with batch size of 1, that has only 1 channel. Let's use 28 x 28 since this is the size of the popular MNIST dataset."
   ]
  },
  {
   "cell_type": "code",
   "execution_count": 36,
   "metadata": {},
   "outputs": [],
   "source": [
    "x = torch.randn(\n",
    "    1, # 1 batch.\n",
    "    1, # 1 channel.\n",
    "    28, # 28 x 28 image.\n",
    "    28\n",
    ")"
   ]
  },
  {
   "cell_type": "markdown",
   "metadata": {},
   "source": [
    "Let's feed the input through the network and see the result:"
   ]
  },
  {
   "cell_type": "code",
   "execution_count": 38,
   "metadata": {},
   "outputs": [
    {
     "name": "stdout",
     "output_type": "stream",
     "text": [
      "Input shape: torch.Size([1, 1, 28, 28])\n",
      "Output shape: torch.Size([1, 16, 28, 28])\n"
     ]
    }
   ],
   "source": [
    "print(f\"Input shape: {x.shape}\")\n",
    "y = net(x)\n",
    "print(f\"Output shape: {y.shape}\")"
   ]
  },
  {
   "cell_type": "markdown",
   "metadata": {},
   "source": [
    "Convolution did not change the size of the output (28 x 28) since we added padding. We see that there are now 16 channels in the output instead of 1."
   ]
  },
  {
   "cell_type": "markdown",
   "metadata": {},
   "source": [
    "If we now add striding, we'll see that the output is cut in half:"
   ]
  },
  {
   "cell_type": "code",
   "execution_count": 39,
   "metadata": {},
   "outputs": [],
   "source": [
    "net = torch.nn.Conv2d(\n",
    "    in_channels=1, # 1-d input (i.e., not 3-channel input, like RGB).\n",
    "    out_channels=16, # 16 channels output.\n",
    "    kernel_size=3, # 3 x 3 kernels.\n",
    "    stride=2,\n",
    "    padding=1 # (3-1)/2 = 1\n",
    ")"
   ]
  },
  {
   "cell_type": "code",
   "execution_count": 40,
   "metadata": {},
   "outputs": [
    {
     "name": "stdout",
     "output_type": "stream",
     "text": [
      "Input shape: torch.Size([1, 1, 28, 28])\n",
      "Output shape: torch.Size([1, 16, 14, 14])\n"
     ]
    }
   ],
   "source": [
    "print(f\"Input shape: {x.shape}\")\n",
    "y = net(x)\n",
    "print(f\"Output shape: {y.shape}\")"
   ]
  },
  {
   "cell_type": "markdown",
   "metadata": {},
   "source": [
    "Now let's build it into a larger network."
   ]
  },
  {
   "cell_type": "code",
   "execution_count": 42,
   "metadata": {},
   "outputs": [],
   "source": [
    "class ConvNet(torch.nn.Module):\n",
    "    \"\"\"Convolutional neural network.\"\"\"\n",
    "\n",
    "    def __init__(self, layers=[16, 32, 64, 64], kernel_size=3, stride=1):\n",
    "        super(ConvNet, self).__init__()\n",
    "        cnn_layers = []\n",
    "        c1 = 1 # 1 input channel\n",
    "    \n",
    "        # add convolutional layers\n",
    "        for c2 in layers:\n",
    "            padding = (kernel_size - 1) // 2\n",
    "            cnn_layers.append(\n",
    "                torch.nn.Conv2d(\n",
    "                    in_channels=c1,\n",
    "                    out_channels=c2,\n",
    "                    kernel_size=kernel_size,\n",
    "                    stride=stride,\n",
    "                    padding=padding\n",
    "                )\n",
    "            )\n",
    "            cnn_layers.append(torch.nn.ReLU())\n",
    "            c1 = c2\n",
    "\n",
    "        # add classification layer. We can do this in two ways, either averaging\n",
    "        # the outputs of the last layer using a fully-connected layer or doing\n",
    "        # a 1x1 convolution. Mathematically they are equivalent. Let's do\n",
    "        # the 1x1 convolution, since doing the 1x1 convolution lets us\n",
    "        # maintain the spatial locations of the features to the classification\n",
    "        # layer.\n",
    "        cnn_layers.append(\n",
    "            torch.nn.Conv2d(\n",
    "                in_channels=c1,\n",
    "                out_channels=1, # 1 output class for now.\n",
    "                kernel_size=1\n",
    "            )\n",
    "        )\n",
    "        self.network = torch.nn.Sequential(*cnn_layers)\n",
    "    \n",
    "    def forward(self, x):\n",
    "        return self.network(x)\n"
   ]
  },
  {
   "cell_type": "markdown",
   "metadata": {},
   "source": [
    "For our classification layer, we could have also used a fully-connected layer instead of the 1x1 convolution. We would modify the last steps of our model definition to be like this:\n",
    "\n",
    "```python\n",
    "        self.conv_layers = torch.nn.Sequential(*cnn_layers)\n",
    "        \n",
    "        # fully connected layer\n",
    "        self.fc = torch.nn.Linear(c1 * 64 * 64, 1)  # Assuming input size is 64x64\n",
    "    \n",
    "    def forward(self, x):\n",
    "        x = self.conv_layers(x)\n",
    "        x = x.view(x.size(0), -1)  # Flatten the tensor\n",
    "        x = self.fc(x)\n",
    "        return x\n",
    "```\n",
    "\n",
    "What's the difference between the two? It lies mostly from the fact that having a linear layer requires that we flatten our convolutional layer. This means that we lose spatial structure in doing so.\n",
    "\n",
    "When we do a 1x1 convolution, we get the following benefits:\n",
    "- **Maintains Spatial Structure**: Since it operates across the depth of the input while maintaining the height and width, it preserves the spatial structure of the input.\n",
    "- **Computational Efficiency**: It performs a linear combination of the input channels at each spatial location, which can be computationally efficient.\n",
    "- **Spatial Features**: It allows the network to maintain and manipulate spatial features up to the final layer. This can be useful for tasks where spatial information is crucial, such as object detection or segmentation.\n",
    "\n",
    "A fully-connected layer, in contrast, requires that we flatten the image. This is more OK in general **classification tasks** and are generally more flexible in terms of input size, especially since they don't care about spatial structure.\n",
    "\n",
    "For our case, we can actually use either output and they'd give similar answers, but it's more computationally efficient to use the 1x1 convolution plus we preserve spatial structure, so we'll use that instead."
   ]
  },
  {
   "cell_type": "markdown",
   "metadata": {},
   "source": [
    "Let's create our network."
   ]
  },
  {
   "cell_type": "code",
   "execution_count": 43,
   "metadata": {},
   "outputs": [],
   "source": [
    "net = ConvNet()"
   ]
  },
  {
   "cell_type": "code",
   "execution_count": 44,
   "metadata": {},
   "outputs": [
    {
     "name": "stdout",
     "output_type": "stream",
     "text": [
      "ConvNet(\n",
      "  (network): Sequential(\n",
      "    (0): Conv2d(1, 16, kernel_size=(3, 3), stride=(1, 1), padding=(1, 1))\n",
      "    (1): ReLU()\n",
      "    (2): Conv2d(16, 32, kernel_size=(3, 3), stride=(1, 1), padding=(1, 1))\n",
      "    (3): ReLU()\n",
      "    (4): Conv2d(32, 64, kernel_size=(3, 3), stride=(1, 1), padding=(1, 1))\n",
      "    (5): ReLU()\n",
      "    (6): Conv2d(64, 64, kernel_size=(3, 3), stride=(1, 1), padding=(1, 1))\n",
      "    (7): ReLU()\n",
      "    (8): Conv2d(64, 1, kernel_size=(1, 1), stride=(1, 1))\n",
      "  )\n",
      ")\n"
     ]
    }
   ],
   "source": [
    "print(net)"
   ]
  },
  {
   "cell_type": "markdown",
   "metadata": {},
   "source": [
    "Let's review what are the output shapes at each step of the network. Let's assume that we're starting with the (28x28) inputs as in our example.\n",
    "\n",
    "Our input is of shape (28 x 28 x 1) since it has one channel.\n",
    "\n",
    "After the first layer, we get $(28 * 28 * 1) \\rightarrow (28 * 28 * 16)$\n",
    "\n",
    "After the second layer, we get $(28 * 28 * 16) \\rightarrow (28 * 28 * 32)$\n",
    "\n",
    "After the second layer, we get $(28 * 28 * 32) \\rightarrow (28 * 28 * 64)$\n",
    "\n",
    "After the second layer, we get $(28 * 28 * 64) \\rightarrow (28 * 28 * 64)$\n",
    "\n",
    "Then, after our 1x1 convolution, we get\n",
    "\n",
    "After the second layer, we get $(28 * 28 * 64) \\rightarrow (28 * 28 * 1)$\n",
    "\n",
    "So the shape of our input is $(28 * 28 * 1)$, and the shape of our output is the same, $(28 * 28 * 1)$.\n",
    "\n",
    "For a classification task, we can then take the 1x1 output and then apply a linear layer, such as:\n",
    "```python\n",
    "torch.nn.Linear(28*28, 1)\n",
    "```\n",
    "\n",
    "But for now, we'll just take an input and return the output CNN representation, to see what we can learn about the receptive field.\n"
   ]
  },
  {
   "cell_type": "code",
   "execution_count": 45,
   "metadata": {},
   "outputs": [],
   "source": [
    "y = net(x)"
   ]
  },
  {
   "cell_type": "code",
   "execution_count": 46,
   "metadata": {},
   "outputs": [
    {
     "name": "stdout",
     "output_type": "stream",
     "text": [
      "Input shape: torch.Size([1, 1, 28, 28])\n",
      "Output shape: torch.Size([1, 1, 28, 28])\n"
     ]
    }
   ],
   "source": [
    "print(f\"Input shape: {x.shape}\")\n",
    "print(f\"Output shape: {y.shape}\")"
   ]
  },
  {
   "cell_type": "markdown",
   "metadata": {},
   "source": [
    "Let's now see the receptive field of a given input. We can do so by passing in a NaN for part of the image and then seeing the result."
   ]
  },
  {
   "cell_type": "code",
   "execution_count": 47,
   "metadata": {},
   "outputs": [],
   "source": [
    "import matplotlib.pyplot as plt"
   ]
  },
  {
   "cell_type": "code",
   "execution_count": 48,
   "metadata": {},
   "outputs": [],
   "source": [
    "x = torch.randn(1, 1, 28, 28)\n",
    "x[0, 0, 10, 10] = float('NaN')\n",
    "y = net(x)"
   ]
  },
  {
   "cell_type": "code",
   "execution_count": 50,
   "metadata": {},
   "outputs": [
    {
     "data": {
      "image/png": "[encoded data removed]",
      "text/plain": [
       "<Figure size 640x480 with 1 Axes>"
      ]
     },
     "metadata": {},
     "output_type": "display_data"
    }
   ],
   "source": [
    "plt.imshow(y[0, 0].detach().numpy())\n",
    "plt.show()"
   ]
  },
  {
   "cell_type": "markdown",
   "metadata": {},
   "source": [
    "We can see that the input NaN \"infects\" certain areas of the downstream layer. Any element in the output that was affected at all by that one input pixel through the accumulation of different upstream layers is now marked in white, while unaffected outputs maintain their color. This tells us as a result which outputs are affected by the given input.\n",
    "\n",
    "However, this tells us which outputs are affected by which input, and the receptive field would tell us which inputs affect a given output. This is the opposite of what we have (though knowing the above is still interesting), so now we can move on to compute the receptive field."
   ]
  },
  {
   "cell_type": "code",
   "execution_count": 54,
   "metadata": {},
   "outputs": [
    {
     "data": {
      "image/png": "[encoded data removed]",
      "text/plain": [
       "<Figure size 640x480 with 4 Axes>"
      ]
     },
     "metadata": {},
     "output_type": "display_data"
    }
   ],
   "source": [
    "f, ax = plt.subplots(1, 4)\n",
    "\n",
    "x = torch.randn(1, 1, 28, 28, requires_grad=True) # we have to backpropagate\n",
    "\n",
    "# our input image\n",
    "ax[0].imshow(x[0, 0].detach().numpy())\n",
    "y = net(x)\n",
    "\n",
    "# our output image\n",
    "ax[1].imshow(y[0, 0].detach().numpy())\n",
    "\n",
    "# create a new tensor the same shape as y. Doing it with 'new_zeros' copies the type and device location of y to z.\n",
    "# In contrast, torch.zeros creates a tensor on the CPU by default.\n",
    "z = y.new_zeros(y.shape)\n",
    "z[0, 0, z.shape[2]//2, z.shape[3]//2] = float('NaN') # right in the middle of the tensor.\n",
    "\n",
    "# sum all the elements of y*z and backpropagate\n",
    "# given that it's all zeros except for the NaN values, the gradient will be\n",
    "# nonzero only for the NaN values.\n",
    "(y*z).sum().backward()\n",
    "\n",
    "# we can plot our probe z to see where the NaN values are. We should see a\n",
    "# white square in the middle of the image. This corresponds to the output pixel\n",
    "# that we're interested in.\n",
    "ax[2].imshow(z[0, 0].detach().numpy())\n",
    "\n",
    "\n",
    "# now, since we run the backwards step, we can see the gradient of x. Since\n",
    "# there is a NaN that we are backpropagating, we should see a gradient at that\n",
    "# location is NaN and marked with a white square.\n",
    "\n",
    "# as a result, we'll see the inputs in X that are affected by the NaN value\n",
    "# in the output Y. This will tell us which pixels in the input image are\n",
    "# affecting that particular output pixel.\n",
    "ax[3].imshow(x.grad[0, 0].detach().numpy())\n",
    "plt.show()"
   ]
  },
  {
   "cell_type": "markdown",
   "metadata": {},
   "source": [
    "### Pooling\n",
    "\n",
    "When we apply convolutions to patches of an image, what we're doing is applying a linear operation (represented by our matrix kernels) to the different patches of the image. However, we can generalize this so that instead of applying simply a linear operation, we can apply any function $f$ over our patches. This generalization is known as **pooling**.\n",
    "\n",
    "for pooling, we'll have the following hyperparameters:\n",
    "- Stride\n",
    "- Kernel size\n",
    "- Padding\n",
    "\n",
    "These are the same hyperparameters that we had for our kernels, which makes sense given that pooling is just a generalization of the kernel operation.\n",
    "\n",
    "Pooling is useful for the following reasons:\n",
    "- It reduces the spatial dimensions of the inputs\n",
    "- It reduces overfitting\n",
    "- It provides translation invariance: small shifts in the input image won't significantly affect the results of the output layer."
   ]
  },
  {
   "cell_type": "markdown",
   "metadata": {},
   "source": [
    "#### Max pooling\n",
    "Max pooling takes the given window and takes the max value in the window. For example:\n",
    "\n",
    "$$\n",
    "\\text{max}\\left(\n",
    "\\begin{matrix}\n",
    "1 & 2\\\\\n",
    "3 & 4\\\\\n",
    "\\end{matrix}\n",
    "\\right) \\rightarrow 4\n",
    "$$\n",
    "\n",
    "This is a nonlinear operation that takes the max value in a given window. It is possible to have a network that is just a set of convolutions and max pooling layers since max pooling is a nonlinear operation. Max pooling is the most commonly used type of pooling. It highlights the most prominent features, such as edges and textures, in the feature maps."
   ]
  },
  {
   "cell_type": "code",
   "execution_count": 56,
   "metadata": {},
   "outputs": [
    {
     "name": "stdout",
     "output_type": "stream",
     "text": [
      "Input shape: torch.Size([1, 1, 4, 4])\n",
      "Output shape: torch.Size([1, 1, 3, 3])\n"
     ]
    }
   ],
   "source": [
    "# Example: 2x2 max pooling with stride 2\n",
    "max_pool = torch.nn.MaxPool2d(kernel_size=2, stride=1)\n",
    "\n",
    "# Input tensor\n",
    "input_tensor = torch.tensor([[[[1, 3, 2, 4],\n",
    "                               [5, 6, 1, 2],\n",
    "                               [8, 7, 4, 3],\n",
    "                               [2, 1, 6, 5]]]], dtype=torch.float32)\n",
    "\n",
    "# Apply max pooling\n",
    "output_tensor = max_pool(input_tensor)\n",
    "print(f\"Input shape: {input_tensor.shape}\")\n",
    "print(f\"Output shape: {output_tensor.shape}\")"
   ]
  },
  {
   "cell_type": "markdown",
   "metadata": {},
   "source": [
    "##### Average pooling\n",
    "Average pooling takes the average value in a window. For example:\n",
    "$$\n",
    "\\text{average}\\left(\n",
    "\\begin{matrix}\n",
    "1 & 2\\\\\n",
    "3 & 4\\\\\n",
    "\\end{matrix}\n",
    "\\right) \\rightarrow 2.5\n",
    "$$\n",
    "\n",
    "Average pooling is less used than max pooling, and it is generally used when we want a smoothing effect over the input."
   ]
  },
  {
   "cell_type": "code",
   "execution_count": 57,
   "metadata": {},
   "outputs": [
    {
     "name": "stdout",
     "output_type": "stream",
     "text": [
      "Input shape: torch.Size([1, 1, 4, 4])\n",
      "Output shape: torch.Size([1, 1, 2, 2])\n"
     ]
    }
   ],
   "source": [
    "# Example: 2x2 average pooling with stride 2\n",
    "avg_pool = torch.nn.AvgPool2d(kernel_size=2, stride=2)\n",
    "\n",
    "# Input tensor\n",
    "input_tensor = torch.tensor([[[[1, 3, 2, 4],\n",
    "                               [5, 6, 1, 2],\n",
    "                               [8, 7, 4, 3],\n",
    "                               [2, 1, 6, 5]]]], dtype=torch.float32)\n",
    "\n",
    "# Apply max pooling\n",
    "output_tensor = avg_pool(input_tensor)\n",
    "print(f\"Input shape: {input_tensor.shape}\")\n",
    "print(f\"Output shape: {output_tensor.shape}\")"
   ]
  },
  {
   "cell_type": "markdown",
   "metadata": {},
   "source": [
    "##### Related (but not the same): Global pooling\n",
    "Global pooling is a type of pooling that is different from max pooling and average pooling. Global pooling is normally done in the last step of a network and removes the spatial dimension by collapsing a $H * W$ channel to a $1 * 1$ value. Therefore, it collapses a $C * H * W$ input to $C * 1 * 1$ output.\n",
    "\n",
    "There are two types of global pooling:\n",
    "- Global average pooling (GAP): computes the average of the $H*W$ values in a channel.\n",
    "- Global max pooling (GMP): computes the max of the $H*W$ values in a channel.\n",
    "\n",
    "This reduces the number of parameters in the last layer (as opposed to a fully-connected layer), reduces overfitting by reducing model complexity, and helps achieve spatial invariance since the feature map has to be summarized to a spatially-independent single value."
   ]
  },
  {
   "cell_type": "code",
   "execution_count": 62,
   "metadata": {},
   "outputs": [
    {
     "name": "stdout",
     "output_type": "stream",
     "text": [
      "Input shape: torch.Size([1, 1, 4, 4])\n",
      "Output shape: torch.Size([1, 1, 1, 1])\n",
      "Output tensor: tensor([[[[8.]]]])\n"
     ]
    }
   ],
   "source": [
    "# Example: Global max pooling\n",
    "global_max_pool = torch.nn.AdaptiveMaxPool2d((1, 1))\n",
    "\n",
    "# Input tensor\n",
    "input_tensor = torch.tensor([[[[1, 3, 2, 4],\n",
    "                               [5, 6, 1, 2],\n",
    "                               [8, 7, 4, 3],\n",
    "                               [2, 1, 6, 5]]]], dtype=torch.float32)\n",
    "\n",
    "# Apply global max pooling\n",
    "output_tensor = global_max_pool(input_tensor)\n",
    "print(f\"Input shape: {input_tensor.shape}\")\n",
    "print(f\"Output shape: {output_tensor.shape}\") # reduces 4x4 to 1x1\n",
    "print(f\"Output tensor: {output_tensor}\")"
   ]
  },
  {
   "cell_type": "code",
   "execution_count": 61,
   "metadata": {},
   "outputs": [
    {
     "name": "stdout",
     "output_type": "stream",
     "text": [
      "Input shape: torch.Size([1, 1, 4, 4])\n",
      "Output shape: torch.Size([1, 1, 1, 1])\n",
      "Output tensor: tensor([[[[3.7500]]]])\n"
     ]
    }
   ],
   "source": [
    "# Example: Global average pooling\n",
    "global_avg_pool = torch.nn.AdaptiveAvgPool2d((1, 1))\n",
    "\n",
    "# Input tensor\n",
    "input_tensor = torch.tensor([[[[1, 3, 2, 4],\n",
    "                               [5, 6, 1, 2],\n",
    "                               [8, 7, 4, 3],\n",
    "                               [2, 1, 6, 5]]]], dtype=torch.float32)\n",
    "\n",
    "# Apply global average pooling\n",
    "output_tensor = global_avg_pool(input_tensor)\n",
    "print(f\"Input shape: {input_tensor.shape}\")\n",
    "print(f\"Output shape: {output_tensor.shape}\") # reduces 4x4 to 1x1\n",
    "print(f\"Output tensor: {output_tensor}\")"
   ]
  },
  {
   "cell_type": "markdown",
   "metadata": {},
   "source": [
    "##### Difference between global pooling and max/average pooling\n",
    "What are the differences between global pooling and max/average pooling? The key difference is when each is done.\n",
    "- **Max/average pooling is done in the intermediate layers**. Its purpose is to reduce the size of the intermediate representations.\n",
    "For example, let's say that we have a $64*64$ image with 3 channels and a $2*2* max pooling operation with stride=1. In that case:\n",
    "    - Our inputs have shape $3 * 64 * 64$\n",
    "    - Our outputs have shape $3 * 63 * 63$ (we apply max pooling across each channel separately and return the reshaped result)\n",
    "- **Global pooling is done in the final layer**. Its purpose is to collapse the results along a spatial dimension.\n",
    "    - Let's say that our input to the last layer has shape $32 * 64 * 64$, for a $64*64$ image across 32 input channels.\n",
    "    - Our output after global pooling will have a shape of $32 * 1 * 1$."
   ]
  },
  {
   "cell_type": "markdown",
   "metadata": {},
   "source": [
    "#### Usage of pooling\n",
    "\n",
    "Max and average pooling are no longer commonly used, as other structures have emerged. Max pooling still is sometimes used though as a nonlinearity layer.\n",
    "\n",
    "Before, we would do:\n",
    "$$\\text{Convolution 3x3} \\rightarrow \\text{Max pooling} \\rightarrow \\text{ReLU} \\rightarrow \\text{Convoultion 1x1}$$\n",
    "\n",
    "Now, in lieu of max pooling, we just use striding within the convolutions plus a ReLU nonlinearity, and then add global pooling at the end.\n",
    "\n",
    "$$\\text{Convolution} \\rightarrow \\text{ReLU} \\rightarrow \\text{Convolution} \\rightarrow \\text{ReLU} \\rightarrow \\text{Convolution} \\rightarrow \\text{Global average pooling}$$\n"
   ]
  },
  {
   "cell_type": "markdown",
   "metadata": {},
   "source": [
    "### Design principles of convolutional networks\n",
    "\n",
    "How can we build bigger and bigger convolutional networks?\n",
    "\n",
    "##### Accounting for striding\n",
    "\n",
    "We want to be able to add striding. This allows us to be able to skip inputs and reduce the dimensionality of our problem. We want to keep the computation constant in the network (so that we have more consistent training throughout the network, the model doesn't overfit to particular input sizes, and the model can be trained and run with more efficient parallel processing), so if we reduce the dimensionality of our inputs, we want a corresponding change to increase the number of channels. If we have a stride of length 2 (which is what is almost always the case), then this will cut our width and height in half, meaning that we should double the number of channels in response.\n",
    "\n",
    "This ends up cutting our number of activations by a factor of 2.\n",
    "\n",
    "$$C * W * H \\rightarrow 2C * \\frac{H}{2} * \\frac{W}{2} \\rightarrow \\frac{C * W * H}{2}$$\n",
    "\n",
    "This ends up not being good across every layer, since we strictly lose information while doing this.\n",
    "\n",
    "Our solution for this is to expand the first layer. In most modern networks, we greatly expand the first layer. The first layer ends up being very very wide, as we represent our inputs with a lot of channels and then condense with striding later on.\n",
    "- Channels: 64 - 96\n",
    "- Large kernel size: 7 - 16: if we blow up a single kernel, we don't get much information, so we need a large kernel size for the first layer.\n",
    "- Strided: 2 - 16\n",
    "\n",
    "##### Keep kernels small\n",
    "Except for the first layer, keep kernels small (use $1*1$ or $3*3$). Larger kernels are often a waste of computation. For example, you can get the effect of a $5*5$ kernel by applying 3 consecutive $3*3$ kernel layers, and those consecutive layers will be more expressive since they'll have nonlinearities (i.e., ReLUs) between them.\n",
    "\n",
    "##### Repeat patterns\n",
    "Create basic blocks for computation, i.e., a \"Convolutional block\". Something like this would suffice:"
   ]
  },
  {
   "cell_type": "code",
   "execution_count": null,
   "metadata": {},
   "outputs": [],
   "source": [
    "class ConvBlock(torch.nn.Module):\n",
    "    def __init__(self, in_channels=1, sizes=[16, 32, 64], kernel_sizes=[3, 1, 3]): # noqa\n",
    "        layers = []\n",
    "        # apply a 3x3 convolution with 16 output channels\n",
    "        # then apply a 3x3 convolution with 32 output channels\n",
    "        # then apply a 3x3 convolution with 64 output channels\n",
    "        # in between, add ReLUs\n",
    "        c1 = in_channels\n",
    "        for c2, kernel_size in zip(sizes, kernel_sizes):\n",
    "            layers.append(\n",
    "                torch.nn.Conv2d(\n",
    "                    in_channels=c1,\n",
    "                    out_channels=c2,\n",
    "                    kernel_size=kernel_size,\n",
    "                    padding=kernel_size // 2\n",
    "                )\n",
    "            )\n",
    "            layers.append(torch.nn.ReLU())\n",
    "            c1 = c2\n",
    "        self.network = torch.nn.Sequential(*layers)"
   ]
  },
  {
   "cell_type": "markdown",
   "metadata": {},
   "source": [
    "This block should then be repeated multiple times, with optional striding within the block. Therefore, your network might look something like this, for a classification case:\n",
    "\n",
    "$$\\text{Input} \\rightarrow \\text{Expanded first layer} \\rightarrow \\text{Conv block} \\rightarrow \\text{Conv block} \\rightarrow \\text{Global average pooling}$$\n",
    "\n",
    "Having a single block makes it easier to develop and tune and debug your network as you're building it.\n",
    "\n",
    "##### Avoid linear layers, keep all layers convolutional\n",
    "Linear layers have too many parameters. Avoid including any linear layers. For the last step, if we were doing classification, we can just use a single $1*1$ convolution (which collapses $C * H * W$ to $1 * H * W$) plus global average pooling (which collapses $1 * H * W$ to a $1*1$ label). Putting the classifier before the global pooling step helps make it more interpretable since we preserve spatial structure up until the very end.\n",
    "\n",
    "We can have the same type of linear operations that we would do in a linear layer and replace them with some combination of convolutions. Using convolutions is orders of magnitude more efficient than linear operations plus learning less weights improves the probability of learning true signal instead of overfitting on noise.\n",
    "\n",
    "We can easily probe the output of the $1*1$ layer, the $1 * H * W$ output, to say, for example, \"does this pixel in the output classify the input image as a dog or as a cat?\", which greatly helps with interpretability."
   ]
  },
  {
   "cell_type": "markdown",
   "metadata": {},
   "source": [
    "### Building up a convolutional neural network with PyTorch\n",
    "\n",
    "Let's start with our previous model and build it up using the best practices that we just went over."
   ]
  },
  {
   "cell_type": "code",
   "execution_count": 63,
   "metadata": {},
   "outputs": [],
   "source": [
    "class ConvNet(torch.nn.Module):\n",
    "    \"\"\"Convolutional neural network.\"\"\"\n",
    "\n",
    "    def __init__(self, layers=[16, 32, 64, 64], kernel_size=3, stride=1):\n",
    "        super(ConvNet, self).__init__()\n",
    "        cnn_layers = []\n",
    "        c1 = 1 # 1 input channel\n",
    "    \n",
    "        # add convolutional layers\n",
    "        for c2 in layers:\n",
    "            padding = (kernel_size - 1) // 2\n",
    "            cnn_layers.append(\n",
    "                torch.nn.Conv2d(\n",
    "                    in_channels=c1,\n",
    "                    out_channels=c2,\n",
    "                    kernel_size=kernel_size,\n",
    "                    stride=stride,\n",
    "                    padding=padding\n",
    "                )\n",
    "            )\n",
    "            cnn_layers.append(torch.nn.ReLU())\n",
    "            c1 = c2\n",
    "\n",
    "        cnn_layers.append(\n",
    "            torch.nn.Conv2d(\n",
    "                in_channels=c1,\n",
    "                out_channels=1, # 1 output class for now.\n",
    "                kernel_size=1\n",
    "            )\n",
    "        )\n",
    "        self.network = torch.nn.Sequential(*cnn_layers)\n",
    "    \n",
    "    def forward(self, x):\n",
    "        return self.network(x)\n"
   ]
  },
  {
   "cell_type": "markdown",
   "metadata": {},
   "source": [
    "Let's set up some inputs for the model. Let's use something in the same vein as image data."
   ]
  },
  {
   "cell_type": "code",
   "execution_count": 66,
   "metadata": {},
   "outputs": [],
   "source": [
    "x = torch.randn(\n",
    "    1, # batch size of 1\n",
    "    3, # 3 input channels\n",
    "    64, # 64 x 64 image\n",
    "    64\n",
    ")"
   ]
  },
  {
   "cell_type": "markdown",
   "metadata": {},
   "source": [
    "Let's update our network accordingly."
   ]
  },
  {
   "cell_type": "code",
   "execution_count": 69,
   "metadata": {},
   "outputs": [],
   "source": [
    "class ConvNet(torch.nn.Module):\n",
    "    \"\"\"Convolutional neural network.\"\"\"\n",
    "    class CNNBlock(torch.nn.Module):\n",
    "        def __init__(self, in_channels, out_channels, kernel_size, stride):\n",
    "            super().__init__()\n",
    "            self.conv = torch.nn.Conv2d(\n",
    "                in_channels=in_channels,\n",
    "                out_channels=out_channels,\n",
    "                kernel_size=kernel_size,\n",
    "                stride=stride,\n",
    "                padding=kernel_size // 2\n",
    "            )\n",
    "            self.relu = torch.nn.ReLU()\n",
    "        def forward(self, x):\n",
    "            return self.relu(self.conv(x))\n",
    "\n",
    "    def __init__(self, channels_l0 = 64, n_blocks = 4):\n",
    "        super(ConvNet, self).__init__()\n",
    "        cnn_layers = []\n",
    "        kernel_size_l0 = 11 # 11 x 11 kernel for the first layer\n",
    "    \n",
    "        # add first layer + ReLU\n",
    "        cnn_layers.append(\n",
    "            torch.nn.Conv2d(\n",
    "                in_channels=3,\n",
    "                out_channels=channels_l0,\n",
    "                kernel_size=kernel_size_l0,\n",
    "                stride=1,\n",
    "                padding=(kernel_size_l0 - 1)// 2\n",
    "            )\n",
    "        )\n",
    "        cnn_layers.append(torch.nn.ReLU())\n",
    "\n",
    "        # add CNN blocks\n",
    "        c1 = channels_l0\n",
    "        for _ in range(n_blocks):\n",
    "            # for now, let's set the number of output channels to be \n",
    "            # the same as the number of input channels\n",
    "            c2 = c1\n",
    "            cnn_layers.append(self.CNNBlock(c1, c2, kernel_size=3, stride=1))\n",
    "            c1 = c2\n",
    "\n",
    "        # add output 1x1 convolution layer\n",
    "        cnn_layers.append(\n",
    "            torch.nn.Conv2d(\n",
    "                in_channels=c1,\n",
    "                out_channels=1, # 1 output class for now.\n",
    "                kernel_size=1\n",
    "            )\n",
    "        )\n",
    "        # Optional: if we want to compress to a single value (i.e., for\n",
    "        # classification/regression) instead of a 2D map, we can add global\n",
    "        # pooling.\n",
    "\n",
    "        # cnn_layers.append(torch.nn.AdaptiveAvgPool2d(1))\n",
    "\n",
    "        # combine all the layers into a network.\n",
    "        self.network = torch.nn.Sequential(*cnn_layers)\n",
    "    \n",
    "    def forward(self, x):\n",
    "        return self.network(x)\n"
   ]
  },
  {
   "cell_type": "code",
   "execution_count": 70,
   "metadata": {},
   "outputs": [],
   "source": [
    "net = ConvNet(n_blocks=3)"
   ]
  },
  {
   "cell_type": "markdown",
   "metadata": {},
   "source": [
    "Let's see how the network looks."
   ]
  },
  {
   "cell_type": "code",
   "execution_count": 71,
   "metadata": {},
   "outputs": [
    {
     "name": "stdout",
     "output_type": "stream",
     "text": [
      "Input: torch.Size([1, 3, 64, 64])\n",
      "Output: torch.Size([1, 1, 64, 64])\n"
     ]
    }
   ],
   "source": [
    "x = torch.randn(1, 3, 64, 64)\n",
    "y = net(x)\n",
    "print(f\"Input: {x.shape}\")\n",
    "print(f\"Output: {y.shape}\")"
   ]
  },
  {
   "cell_type": "markdown",
   "metadata": {},
   "source": [
    "Our model creates a 2D map out of our image. We take as input a $64 * 64 * 3$ image and output a $64 * 64 * 1$ representation."
   ]
  },
  {
   "cell_type": "markdown",
   "metadata": {},
   "source": [
    "Let's make our network more interesting by adding stride=2 to each block and doubling our number of channels."
   ]
  },
  {
   "cell_type": "code",
   "execution_count": 76,
   "metadata": {},
   "outputs": [],
   "source": [
    "class ConvNet(torch.nn.Module):\n",
    "    \"\"\"Convolutional neural network.\"\"\"\n",
    "    class CNNBlock(torch.nn.Module):\n",
    "        def __init__(self, in_channels, out_channels, kernel_size, stride):\n",
    "            super().__init__()\n",
    "            self.conv = torch.nn.Conv2d(\n",
    "                in_channels=in_channels,\n",
    "                out_channels=out_channels,\n",
    "                kernel_size=kernel_size,\n",
    "                stride=stride,\n",
    "                padding=kernel_size // 2\n",
    "            )\n",
    "            self.relu = torch.nn.ReLU()\n",
    "        def forward(self, x):\n",
    "            return self.relu(self.conv(x))\n",
    "\n",
    "    def __init__(self, channels_l0 = 64, n_blocks = 4):\n",
    "        super(ConvNet, self).__init__()\n",
    "        cnn_layers = []\n",
    "        kernel_size_l0 = 11 # 11 x 11 kernel for the first layer\n",
    "        stride_l0 = 2 # stride of 2 for the first layer\n",
    "    \n",
    "        # add first layer + ReLU\n",
    "        cnn_layers.append(\n",
    "            torch.nn.Conv2d(\n",
    "                in_channels=3,\n",
    "                out_channels=channels_l0,\n",
    "                kernel_size=kernel_size_l0,\n",
    "                stride=stride_l0,\n",
    "                padding=(kernel_size_l0 - 1)// 2\n",
    "            )\n",
    "        )\n",
    "        cnn_layers.append(torch.nn.ReLU())\n",
    "\n",
    "        # add CNN blocks\n",
    "        c1 = channels_l0\n",
    "        for _ in range(n_blocks):\n",
    "            # for now, let's set the number of output channels to be \n",
    "            # the same as the number of input channels\n",
    "            c2 = c1 * 2\n",
    "            stride = 2\n",
    "            cnn_layers.append(self.CNNBlock(c1, c2, kernel_size=3, stride=stride)) # noqa\n",
    "            c1 = c2\n",
    "\n",
    "        # add output 1x1 convolution layer\n",
    "        cnn_layers.append(\n",
    "            torch.nn.Conv2d(\n",
    "                in_channels=c1,\n",
    "                out_channels=1, # 1 output class for now.\n",
    "                kernel_size=1\n",
    "            )\n",
    "        )\n",
    "        # Optional: if we want to compress to a single value (i.e., for\n",
    "        # classification/regression) instead of a 2D map, we can add global\n",
    "        # pooling.\n",
    "\n",
    "        # cnn_layers.append(torch.nn.AdaptiveAvgPool2d(1))\n",
    "\n",
    "        # combine all the layers into a network.\n",
    "        self.network = torch.nn.Sequential(*cnn_layers)\n",
    "    \n",
    "    def forward(self, x):\n",
    "        return self.network(x)\n"
   ]
  },
  {
   "cell_type": "code",
   "execution_count": 77,
   "metadata": {},
   "outputs": [],
   "source": [
    "net = ConvNet(n_blocks=3)"
   ]
  },
  {
   "cell_type": "markdown",
   "metadata": {},
   "source": [
    "If we print our network, we can see the number of kernels doubling in each block. Our images dimensions are halving but our number of channels is doubling."
   ]
  },
  {
   "cell_type": "code",
   "execution_count": 78,
   "metadata": {},
   "outputs": [
    {
     "name": "stdout",
     "output_type": "stream",
     "text": [
      "ConvNet(\n",
      "  (network): Sequential(\n",
      "    (0): Conv2d(3, 64, kernel_size=(11, 11), stride=(2, 2), padding=(5, 5))\n",
      "    (1): ReLU()\n",
      "    (2): CNNBlock(\n",
      "      (conv): Conv2d(64, 128, kernel_size=(3, 3), stride=(2, 2), padding=(1, 1))\n",
      "      (relu): ReLU()\n",
      "    )\n",
      "    (3): CNNBlock(\n",
      "      (conv): Conv2d(128, 256, kernel_size=(3, 3), stride=(2, 2), padding=(1, 1))\n",
      "      (relu): ReLU()\n",
      "    )\n",
      "    (4): CNNBlock(\n",
      "      (conv): Conv2d(256, 512, kernel_size=(3, 3), stride=(2, 2), padding=(1, 1))\n",
      "      (relu): ReLU()\n",
      "    )\n",
      "    (5): Conv2d(512, 1, kernel_size=(1, 1), stride=(1, 1))\n",
      "  )\n",
      ")\n"
     ]
    }
   ],
   "source": [
    "print(net)"
   ]
  },
  {
   "cell_type": "markdown",
   "metadata": {},
   "source": [
    "Let's see how this affects our results:"
   ]
  },
  {
   "cell_type": "code",
   "execution_count": 79,
   "metadata": {},
   "outputs": [
    {
     "name": "stdout",
     "output_type": "stream",
     "text": [
      "Input: torch.Size([1, 3, 64, 64])\n",
      "Output: torch.Size([1, 1, 4, 4])\n"
     ]
    }
   ],
   "source": [
    "x = torch.randn(1, 3, 64, 64)\n",
    "y = net(x)\n",
    "print(f\"Input: {x.shape}\")\n",
    "print(f\"Output: {y.shape}\")"
   ]
  },
  {
   "cell_type": "markdown",
   "metadata": {},
   "source": [
    "As we see, our inputs were progressively compressed. We reduce the number of channels (from 3 to 1) as well as reduce the shape of our inputs (from 64 * 64 to 4 * 4)."
   ]
  },
  {
   "cell_type": "markdown",
   "metadata": {},
   "source": [
    "Let's now make this more interesting by adding more convolutions to our blocks."
   ]
  },
  {
   "cell_type": "code",
   "execution_count": 80,
   "metadata": {},
   "outputs": [],
   "source": [
    "class ConvNet(torch.nn.Module):\n",
    "    \"\"\"Convolutional neural network.\"\"\"\n",
    "    class CNNBlock(torch.nn.Module):\n",
    "        def __init__(self, in_channels, out_channels, stride):\n",
    "            super().__init__()\n",
    "            layers = []\n",
    "            kernel_size = 3\n",
    "            padding = kernel_size // 2\n",
    "\n",
    "            # let's add more convolutions to the block. Let's set the first\n",
    "            # one as having in_channels=in_channels and out_channels=out_channels\n",
    "            # and the next two as having the same input and output shape.\n",
    "            sizes = [out_channels, out_channels, out_channels]\n",
    "            c1 = in_channels\n",
    "            for c2 in sizes:\n",
    "                layers.append(\n",
    "                    torch.nn.Conv2d(\n",
    "                        in_channels=c1,\n",
    "                        out_channels=c2,\n",
    "                        kernel_size=kernel_size,\n",
    "                        padding=padding\n",
    "                    )\n",
    "                )\n",
    "                layers.append(torch.nn.ReLU())\n",
    "                c1 = c2\n",
    "            self.model = torch.nn.Sequential(*layers)\n",
    "        def forward(self, x):\n",
    "            return self.model(x)\n",
    "\n",
    "    def __init__(self, channels_l0 = 64, n_blocks = 4):\n",
    "        super(ConvNet, self).__init__()\n",
    "        cnn_layers = []\n",
    "        kernel_size_l0 = 11 # 11 x 11 kernel for the first layer\n",
    "        stride_l0 = 2 # stride of 2 for the first layer\n",
    "    \n",
    "        # add first layer + ReLU\n",
    "        cnn_layers.append(\n",
    "            torch.nn.Conv2d(\n",
    "                in_channels=3,\n",
    "                out_channels=channels_l0,\n",
    "                kernel_size=kernel_size_l0,\n",
    "                stride=stride_l0,\n",
    "                padding=(kernel_size_l0 - 1)// 2\n",
    "            )\n",
    "        )\n",
    "        cnn_layers.append(torch.nn.ReLU())\n",
    "\n",
    "        # add CNN blocks\n",
    "        c1 = channels_l0\n",
    "        for _ in range(n_blocks):\n",
    "            # for now, let's set the number of output channels to be \n",
    "            # the same as the number of input channels\n",
    "            c2 = c1 * 2\n",
    "            stride = 2\n",
    "            cnn_layers.append(self.CNNBlock(c1, c2, stride=stride)) # noqa\n",
    "            c1 = c2\n",
    "\n",
    "        # add output 1x1 convolution layer\n",
    "        cnn_layers.append(\n",
    "            torch.nn.Conv2d(\n",
    "                in_channels=c1,\n",
    "                out_channels=1, # 1 output class for now.\n",
    "                kernel_size=1\n",
    "            )\n",
    "        )\n",
    "        # Optional: if we want to compress to a single value (i.e., for\n",
    "        # classification/regression) instead of a 2D map, we can add global\n",
    "        # pooling.\n",
    "\n",
    "        # cnn_layers.append(torch.nn.AdaptiveAvgPool2d(1))\n",
    "\n",
    "        # combine all the layers into a network.\n",
    "        self.network = torch.nn.Sequential(*cnn_layers)\n",
    "    \n",
    "    def forward(self, x):\n",
    "        return self.network(x)\n"
   ]
  },
  {
   "cell_type": "markdown",
   "metadata": {},
   "source": [
    "Now let's see how our network looks."
   ]
  },
  {
   "cell_type": "code",
   "execution_count": 81,
   "metadata": {},
   "outputs": [],
   "source": [
    "net = ConvNet(n_blocks=3)"
   ]
  },
  {
   "cell_type": "code",
   "execution_count": 82,
   "metadata": {},
   "outputs": [
    {
     "name": "stdout",
     "output_type": "stream",
     "text": [
      "ConvNet(\n",
      "  (network): Sequential(\n",
      "    (0): Conv2d(3, 64, kernel_size=(11, 11), stride=(2, 2), padding=(5, 5))\n",
      "    (1): ReLU()\n",
      "    (2): CNNBlock(\n",
      "      (model): Sequential(\n",
      "        (0): Conv2d(64, 128, kernel_size=(3, 3), stride=(1, 1), padding=(1, 1))\n",
      "        (1): ReLU()\n",
      "        (2): Conv2d(128, 128, kernel_size=(3, 3), stride=(1, 1), padding=(1, 1))\n",
      "        (3): ReLU()\n",
      "        (4): Conv2d(128, 128, kernel_size=(3, 3), stride=(1, 1), padding=(1, 1))\n",
      "        (5): ReLU()\n",
      "      )\n",
      "    )\n",
      "    (3): CNNBlock(\n",
      "      (model): Sequential(\n",
      "        (0): Conv2d(128, 256, kernel_size=(3, 3), stride=(1, 1), padding=(1, 1))\n",
      "        (1): ReLU()\n",
      "        (2): Conv2d(256, 256, kernel_size=(3, 3), stride=(1, 1), padding=(1, 1))\n",
      "        (3): ReLU()\n",
      "        (4): Conv2d(256, 256, kernel_size=(3, 3), stride=(1, 1), padding=(1, 1))\n",
      "        (5): ReLU()\n",
      "      )\n",
      "    )\n",
      "    (4): CNNBlock(\n",
      "      (model): Sequential(\n",
      "        (0): Conv2d(256, 512, kernel_size=(3, 3), stride=(1, 1), padding=(1, 1))\n",
      "        (1): ReLU()\n",
      "        (2): Conv2d(512, 512, kernel_size=(3, 3), stride=(1, 1), padding=(1, 1))\n",
      "        (3): ReLU()\n",
      "        (4): Conv2d(512, 512, kernel_size=(3, 3), stride=(1, 1), padding=(1, 1))\n",
      "        (5): ReLU()\n",
      "      )\n",
      "    )\n",
      "    (5): Conv2d(512, 1, kernel_size=(1, 1), stride=(1, 1))\n",
      "  )\n",
      ")\n"
     ]
    }
   ],
   "source": [
    "print(net)"
   ]
  },
  {
   "cell_type": "markdown",
   "metadata": {},
   "source": [
    "Now we see that our blocks have multiple convolutional layers within them. We can also start to add normalizations and residuals within these blocks, like we did for the fully connected network.\n",
    "\n",
    "The basic structure of a CNN is the following:\n",
    "\n",
    "$$\\text{Input} \\rightarrow \\text{Conv} \\rightarrow \\text{ReLU} \\rightarrow \\text{Conv Blocks} \\rightarrow \\text{1x1 Conv} \\rightarrow \\text{Optional (i.e., for classification) Global average pooling}$$"
   ]
  },
  {
   "cell_type": "markdown",
   "metadata": {},
   "source": [
    "### Dilation and upconvolution\n",
    "\n",
    "##### Recap: receptive fields with large kernels\n",
    "\n",
    "Receptive fields only grow slowly across layers. As the slide shows below, for us to increase our receptive field we need to either increase the kernel size or increase the number of layers, both of whcih are computationally expensive.\n",
    "\n",
    "At each layer, our receptive field grows by +2 (+1 on each side).\n",
    "\n",
    "![Receptive fields with large kernels](./../assets/conv_slide_5.png \"Receptive fields with large kernels\")\n",
    "\n",
    "##### Receptive fields with strides\n",
    "Since striding allows us to skip inputs, our receptive field begins to grow much quicker. The growth in the receptive fields begins to exponentially increase, until we quickly get layers whose receptive fields are larger than the whole image.\n",
    "\n",
    "![Receptive fields with striding](./../assets/conv_slide_6.png \"Receptive fields with striding\")"
   ]
  },
  {
   "cell_type": "markdown",
   "metadata": {},
   "source": []
  }
 ],
 "metadata": {
  "kernelspec": {
   "display_name": "deep-learning-v2",
   "language": "python",
   "name": "python3"
  },
  "language_info": {
   "codemirror_mode": {
    "name": "ipython",
    "version": 3
   },
   "file_extension": ".py",
   "mimetype": "text/x-python",
   "name": "python",
   "nbconvert_exporter": "python",
   "pygments_lexer": "ipython3",
   "version": "3.11.9"
  }
 },
 "nbformat": 4,
 "nbformat_minor": 2
}
