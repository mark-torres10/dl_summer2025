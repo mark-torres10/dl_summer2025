{
 "cells": [
  {
   "cell_type": "markdown",
   "metadata": {},
   "source": [
    "Nearest neighbor clustering, in PyTorch"
   ]
  },
  {
   "cell_type": "code",
   "execution_count": 2,
   "metadata": {},
   "outputs": [],
   "source": [
    "import torchvision\n",
    "import torch\n",
    "from PIL import Image"
   ]
  },
  {
   "cell_type": "code",
   "execution_count": 3,
   "metadata": {},
   "outputs": [],
   "source": [
    "size = (128, 128)\n",
    "transform = torchvision.transforms.Compose([\n",
    "    torchvision.transforms.Resize(size),\n",
    "    torchvision.transforms.ToTensor()\n",
    "])"
   ]
  },
  {
   "cell_type": "code",
   "execution_count": 19,
   "metadata": {},
   "outputs": [],
   "source": [
    "train_dataset = torchvision.datasets.Flowers102(\"./flowers\", \"train\", transform=transform, download=True)\n",
    "test_dataset = torchvision.datasets.Flowers102(\"./flowers\", \"test\", transform=transform, download=True)"
   ]
  },
  {
   "cell_type": "code",
   "execution_count": 5,
   "metadata": {},
   "outputs": [],
   "source": [
    "def visualize_image(image):\n",
    "    image = image.permute(1, 2, 0) * 255\n",
    "    image = image.to(torch.uint8).numpy()\n",
    "    image = Image.fromarray(image)\n",
    "    image.show()"
   ]
  },
  {
   "cell_type": "code",
   "execution_count": 7,
   "metadata": {},
   "outputs": [],
   "source": [
    "visualize_image(train_dataset[0][0])"
   ]
  },
  {
   "cell_type": "code",
   "execution_count": 10,
   "metadata": {},
   "outputs": [],
   "source": [
    "# let's grab the first 20 images, 10 of which are in class 0 and 10 of which are in class 1\n",
    "class_01 = list(train_dataset)[:20]"
   ]
  },
  {
   "cell_type": "code",
   "execution_count": 14,
   "metadata": {},
   "outputs": [],
   "source": [
    "def nn_classifier(x):\n",
    "    \"\"\"Computes the distances between a given observation and the training set,\n",
    "    and then returns the class of the closest observation.\n",
    "    \"\"\"\n",
    "    # calculate RMSE between x and each image in the training set.\n",
    "    # we square each element of the difference, sum them, take the mean,\n",
    "    # and then take the square root\n",
    "    distance_label_tuples = [\n",
    "        ((x - img).pow(2).sum().sqrt(), label) for img, label in class_01\n",
    "    ]\n",
    "    # get the index of the smallest distance\n",
    "    return min(distance_label_tuples)[1]"
   ]
  },
  {
   "cell_type": "code",
   "execution_count": 15,
   "metadata": {},
   "outputs": [
    {
     "data": {
      "text/plain": [
       "1"
      ]
     },
     "execution_count": 15,
     "metadata": {},
     "output_type": "execute_result"
    }
   ],
   "source": [
    "nn_classifier(train_dataset[0][1])"
   ]
  },
  {
   "cell_type": "code",
   "execution_count": 20,
   "metadata": {},
   "outputs": [],
   "source": [
    "num_samples = 20\n",
    "accuracy = sum(nn_classifier(img) == label for img, label in list(test_dataset)[:num_samples]) / num_samples"
   ]
  },
  {
   "cell_type": "code",
   "execution_count": 21,
   "metadata": {},
   "outputs": [
    {
     "data": {
      "text/plain": [
       "0.4"
      ]
     },
     "execution_count": 21,
     "metadata": {},
     "output_type": "execute_result"
    }
   ],
   "source": [
    "accuracy"
   ]
  },
  {
   "cell_type": "markdown",
   "metadata": {},
   "source": [
    "## K-nearest-neighbors classification/regression\n",
    "\n",
    "Find $k$ closest values in dataset $D$ and return the most common label (classification) or average value (regression)."
   ]
  },
  {
   "cell_type": "code",
   "execution_count": 25,
   "metadata": {},
   "outputs": [],
   "source": [
    "def knn_classifier(x, k=3):\n",
    "    \"\"\"Computes the distances between a given observation and the training set,\n",
    "    and then returns the class of the closest \"k\" observations.\n",
    "    \"\"\"\n",
    "    # calculate RMSE between x and each image in the training set.\n",
    "    # we square each element of the difference, sum them, take the mean,\n",
    "    # and then take the square root\n",
    "    distance_label_tuples = [\n",
    "        ((x - img).pow(2).sum().sqrt(), label) for img, label in class_01\n",
    "    ]\n",
    "    # get the k nearest distances\n",
    "    k_smallest = sorted(distance_label_tuples)[:k]\n",
    "\n",
    "    # return the most common label across the k nearest neighbors.\n",
    "    mean_label = sum(label for _, label in k_smallest) / k\n",
    "    print(f\"Mean label: {mean_label}\")\n",
    "    return round(mean_label) # rounds to nearest int, so 0 or 1"
   ]
  },
  {
   "cell_type": "code",
   "execution_count": 27,
   "metadata": {},
   "outputs": [
    {
     "name": "stdout",
     "output_type": "stream",
     "text": [
      "Mean label: 0.8\n"
     ]
    },
    {
     "data": {
      "text/plain": [
       "1"
      ]
     },
     "execution_count": 27,
     "metadata": {},
     "output_type": "execute_result"
    }
   ],
   "source": [
    "knn_classifier(test_dataset[0][1], k=5)"
   ]
  },
  {
   "cell_type": "code",
   "execution_count": null,
   "metadata": {},
   "outputs": [],
   "source": []
  }
 ],
 "metadata": {
  "kernelspec": {
   "display_name": "deep-learning-v2",
   "language": "python",
   "name": "python3"
  },
  "language_info": {
   "codemirror_mode": {
    "name": "ipython",
    "version": 3
   },
   "file_extension": ".py",
   "mimetype": "text/x-python",
   "name": "python",
   "nbconvert_exporter": "python",
   "pygments_lexer": "ipython3",
   "version": "3.11.9"
  }
 },
 "nbformat": 4,
 "nbformat_minor": 2
}
